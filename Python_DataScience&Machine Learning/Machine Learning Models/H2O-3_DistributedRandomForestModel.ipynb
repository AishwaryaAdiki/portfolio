{
 "cells": [
  {
   "cell_type": "markdown",
   "id": "fe8379f5",
   "metadata": {},
   "source": [
    "## **Dataset description**\n",
    "\n",
    "The dataset: SBA dataset posted on Kaggle. \n",
    "\n",
    "The dataset is from the U.S. Small Business Administration (SBA)\n",
    "The U.S. SBA was founded in 1953 on the principle of promoting and assisting small enterprises in the U.S. credit market \n",
    "(SBA Overview and History, US Small Business Administration (2015)). Small businesses have been a primary source of job creation in the United States; therefore, fostering small business formation and growth has social benefits by creating job opportunities and reducing unemployment.\n",
    "There have been many success stories of start-ups receiving SBA loan guarantees such as FedEx and Apple Computer. \n",
    "However, there have also been stories of small businesses and/or start-ups that have defaulted on their SBA-guaranteed loans.\n",
    "\n",
    "More info on the original dataset: https://www.kaggle.com/mirbektoktogaraev/should-this-loan-be-approved-or-denied\n"
   ]
  },
  {
   "cell_type": "markdown",
   "id": "54cf3bbd",
   "metadata": {},
   "source": [
    "## **Preparation**\n",
    "\n",
    "Loaded the data into H2O-3 dataframe.  \n",
    "Described imported dataframe."
   ]
  },
  {
   "cell_type": "code",
   "execution_count": 1,
   "id": "d1164d44",
   "metadata": {
    "tags": []
   },
   "outputs": [],
   "source": [
    "import h2o\n",
    "try:\n",
    "    h2o.cluster().shutdown()\n",
    "except:\n",
    "    pass "
   ]
  },
  {
   "cell_type": "code",
   "execution_count": 2,
   "id": "d4a568e3",
   "metadata": {
    "tags": []
   },
   "outputs": [
    {
     "name": "stdout",
     "output_type": "stream",
     "text": [
      "Checking whether there is an H2O instance running at http://localhost:54321..... not found.\n",
      "Attempting to start a local H2O server...\n",
      "  Java Version: openjdk version \"17.0.7\" 2023-04-18; OpenJDK Runtime Environment Temurin-17.0.7+7 (build 17.0.7+7); OpenJDK 64-Bit Server VM Temurin-17.0.7+7 (build 17.0.7+7, mixed mode, sharing)\n",
      "  Starting server from /Users/aishwaryaadiki/anaconda3/lib/python3.11/site-packages/h2o/backend/bin/h2o.jar\n",
      "  Ice root: /var/folders/hd/qln9g6n51snggb5qgwn55w9c0000gn/T/tmp9u4ms8ey\n",
      "  JVM stdout: /var/folders/hd/qln9g6n51snggb5qgwn55w9c0000gn/T/tmp9u4ms8ey/h2o_aishwaryaadiki_started_from_python.out\n",
      "  JVM stderr: /var/folders/hd/qln9g6n51snggb5qgwn55w9c0000gn/T/tmp9u4ms8ey/h2o_aishwaryaadiki_started_from_python.err\n",
      "  Server is running at http://127.0.0.1:54321\n",
      "Connecting to H2O server at http://127.0.0.1:54321 ... successful.\n"
     ]
    },
    {
     "data": {
      "text/html": [
       "\n",
       "<style>\n",
       "\n",
       "#h2o-table-1.h2o-container {\n",
       "  overflow-x: auto;\n",
       "}\n",
       "#h2o-table-1 .h2o-table {\n",
       "  /* width: 100%; */\n",
       "  margin-top: 1em;\n",
       "  margin-bottom: 1em;\n",
       "}\n",
       "#h2o-table-1 .h2o-table caption {\n",
       "  white-space: nowrap;\n",
       "  caption-side: top;\n",
       "  text-align: left;\n",
       "  /* margin-left: 1em; */\n",
       "  margin: 0;\n",
       "  font-size: larger;\n",
       "}\n",
       "#h2o-table-1 .h2o-table thead {\n",
       "  white-space: nowrap; \n",
       "  position: sticky;\n",
       "  top: 0;\n",
       "  box-shadow: 0 -1px inset;\n",
       "}\n",
       "#h2o-table-1 .h2o-table tbody {\n",
       "  overflow: auto;\n",
       "}\n",
       "#h2o-table-1 .h2o-table th,\n",
       "#h2o-table-1 .h2o-table td {\n",
       "  text-align: right;\n",
       "  /* border: 1px solid; */\n",
       "}\n",
       "#h2o-table-1 .h2o-table tr:nth-child(even) {\n",
       "  /* background: #F5F5F5 */\n",
       "}\n",
       "\n",
       "</style>      \n",
       "<div id=\"h2o-table-1\" class=\"h2o-container\">\n",
       "  <table class=\"h2o-table\">\n",
       "    <caption></caption>\n",
       "    <thead></thead>\n",
       "    <tbody><tr><td>H2O_cluster_uptime:</td>\n",
       "<td>03 secs</td></tr>\n",
       "<tr><td>H2O_cluster_timezone:</td>\n",
       "<td>America/Chicago</td></tr>\n",
       "<tr><td>H2O_data_parsing_timezone:</td>\n",
       "<td>UTC</td></tr>\n",
       "<tr><td>H2O_cluster_version:</td>\n",
       "<td>3.44.0.3</td></tr>\n",
       "<tr><td>H2O_cluster_version_age:</td>\n",
       "<td>2 months and 14 days</td></tr>\n",
       "<tr><td>H2O_cluster_name:</td>\n",
       "<td>H2O_from_python_aishwaryaadiki_onchze</td></tr>\n",
       "<tr><td>H2O_cluster_total_nodes:</td>\n",
       "<td>1</td></tr>\n",
       "<tr><td>H2O_cluster_free_memory:</td>\n",
       "<td>8 Gb</td></tr>\n",
       "<tr><td>H2O_cluster_total_cores:</td>\n",
       "<td>10</td></tr>\n",
       "<tr><td>H2O_cluster_allowed_cores:</td>\n",
       "<td>8</td></tr>\n",
       "<tr><td>H2O_cluster_status:</td>\n",
       "<td>locked, healthy</td></tr>\n",
       "<tr><td>H2O_connection_url:</td>\n",
       "<td>http://127.0.0.1:54321</td></tr>\n",
       "<tr><td>H2O_connection_proxy:</td>\n",
       "<td>{\"http\": null, \"https\": null}</td></tr>\n",
       "<tr><td>H2O_internal_security:</td>\n",
       "<td>False</td></tr>\n",
       "<tr><td>Python_version:</td>\n",
       "<td>3.11.5 final</td></tr></tbody>\n",
       "  </table>\n",
       "</div>\n"
      ],
      "text/plain": [
       "--------------------------  -------------------------------------\n",
       "H2O_cluster_uptime:         03 secs\n",
       "H2O_cluster_timezone:       America/Chicago\n",
       "H2O_data_parsing_timezone:  UTC\n",
       "H2O_cluster_version:        3.44.0.3\n",
       "H2O_cluster_version_age:    2 months and 14 days\n",
       "H2O_cluster_name:           H2O_from_python_aishwaryaadiki_onchze\n",
       "H2O_cluster_total_nodes:    1\n",
       "H2O_cluster_free_memory:    8 Gb\n",
       "H2O_cluster_total_cores:    10\n",
       "H2O_cluster_allowed_cores:  8\n",
       "H2O_cluster_status:         locked, healthy\n",
       "H2O_connection_url:         http://127.0.0.1:54321\n",
       "H2O_connection_proxy:       {\"http\": null, \"https\": null}\n",
       "H2O_internal_security:      False\n",
       "Python_version:             3.11.5 final\n",
       "--------------------------  -------------------------------------"
      ]
     },
     "metadata": {},
     "output_type": "display_data"
    }
   ],
   "source": [
    "# Adjust as per limits on your PC\n",
    "# Limit to 8 threads and 8GB memory\n",
    "h2o.init(nthreads=8, max_mem_size=8)"
   ]
  },
  {
   "cell_type": "code",
   "execution_count": 3,
   "id": "6dac19ef",
   "metadata": {
    "tags": []
   },
   "outputs": [
    {
     "name": "stdout",
     "output_type": "stream",
     "text": [
      "Parse progress: |████████████████████████████████████████████████████████████████| (done) 100%\n"
     ]
    }
   ],
   "source": [
    "df_h = h2o.import_file('/Users/aishwaryaadiki/Downloads/SBA_loans_lab_6')"
   ]
  },
  {
   "cell_type": "code",
   "execution_count": 4,
   "id": "5acd65e7",
   "metadata": {
    "scrolled": true,
    "tags": []
   },
   "outputs": [
    {
     "data": {
      "text/html": [
       "<pre style='margin: 1em 0 1em 0;'>Rows:179833\n",
       "Cols:20\n",
       "</pre>"
      ],
      "text/plain": [
       "Rows:179833\n",
       "Cols:20\n"
      ]
     },
     "metadata": {},
     "output_type": "display_data"
    },
    {
     "data": {
      "text/html": [
       "<table class='dataframe'>\n",
       "<thead>\n",
       "<tr><th>       </th><th>City          </th><th>State  </th><th>Zip               </th><th>Bank                          </th><th>BankState  </th><th>NAICS             </th><th>Term              </th><th>NoEmp            </th><th>NewExist          </th><th>CreateJob         </th><th>RetainedJob       </th><th>FranchiseCode     </th><th>UrbanRural        </th><th>RevLineCr  </th><th>LowDoc  </th><th>DisbursementGross  </th><th>BalanceGross      </th><th>GrAppv           </th><th>SBA_Appv          </th><th>Defaulted          </th></tr>\n",
       "</thead>\n",
       "<tbody>\n",
       "<tr><td>type   </td><td>enum          </td><td>enum   </td><td>int               </td><td>enum                          </td><td>enum       </td><td>int               </td><td>int               </td><td>int              </td><td>int               </td><td>int               </td><td>int               </td><td>int               </td><td>int               </td><td>enum       </td><td>enum    </td><td>int                </td><td>int               </td><td>int              </td><td>int               </td><td>int                </td></tr>\n",
       "<tr><td>mins   </td><td>              </td><td>       </td><td>0.0               </td><td>                              </td><td>           </td><td>0.0               </td><td>0.0               </td><td>0.0              </td><td>0.0               </td><td>0.0               </td><td>0.0               </td><td>0.0               </td><td>0.0               </td><td>           </td><td>        </td><td>0.0                </td><td>0.0               </td><td>500.0            </td><td>250.0             </td><td>0.0                </td></tr>\n",
       "<tr><td>mean   </td><td>              </td><td>       </td><td>53773.700544393985</td><td>                              </td><td>           </td><td>399594.72817002464</td><td>110.90885988667263</td><td>11.38415085106738</td><td>1.2807185362326887</td><td>9.0115273614965   </td><td>11.433813593723062</td><td>2755.5899473400323</td><td>0.7598827801349027</td><td>           </td><td>        </td><td>201926.88862444606 </td><td>6.553808255436989 </td><td>193398.5314152575</td><td>150058.35065866666</td><td>0.17522924046198418</td></tr>\n",
       "<tr><td>maxs   </td><td>              </td><td>       </td><td>99999.0           </td><td>                              </td><td>           </td><td>928120.0          </td><td>461.0             </td><td>8500.0           </td><td>2.0               </td><td>8800.0            </td><td>8800.0            </td><td>99999.0           </td><td>2.0               </td><td>           </td><td>        </td><td>11446325.0         </td><td>996262.0          </td><td>5000000.0        </td><td>4869000.0         </td><td>1.0                </td></tr>\n",
       "<tr><td>sigma  </td><td>              </td><td>       </td><td>31182.082734237698</td><td>                              </td><td>           </td><td>263331.7973921777 </td><td>78.95806965689958 </td><td>67.30104824719155</td><td>0.4520661496065112</td><td>246.60707495715351</td><td>247.46697982527505</td><td>12754.797773687817</td><td>0.6467730811038548</td><td>           </td><td>        </td><td>290056.8000335532  </td><td>2367.8805220862832</td><td>284469.6765889608</td><td>229388.82282767945</td><td>0.38016411904602204</td></tr>\n",
       "<tr><td>zeros  </td><td>              </td><td>       </td><td>43                </td><td>                              </td><td>           </td><td>40267             </td><td>161               </td><td>1369             </td><td>220               </td><td>125596            </td><td>87605             </td><td>42030             </td><td>64388             </td><td>           </td><td>        </td><td>44                 </td><td>179829            </td><td>0                </td><td>0                 </td><td>148321             </td></tr>\n",
       "<tr><td>missing</td><td>3             </td><td>4      </td><td>0                 </td><td>316                           </td><td>318        </td><td>0                 </td><td>0                 </td><td>0                </td><td>23                </td><td>0                 </td><td>0                 </td><td>0                 </td><td>0                 </td><td>932        </td><td>855     </td><td>0                  </td><td>0                 </td><td>0                </td><td>0                 </td><td>0                  </td></tr>\n",
       "<tr><td>0      </td><td>Cuyahoga Falls</td><td>OH     </td><td>44224.0           </td><td>PNC BANK, NATIONAL ASSOCIATION</td><td>OH         </td><td>332710.0          </td><td>84.0              </td><td>3.0              </td><td>1.0               </td><td>0.0               </td><td>3.0               </td><td>1.0               </td><td>1.0               </td><td>N          </td><td>N       </td><td>99000.0            </td><td>0.0               </td><td>99000.0          </td><td>49500.0           </td><td>0.0                </td></tr>\n",
       "<tr><td>1      </td><td>LAWRENCEVILLE </td><td>GA     </td><td>30043.0           </td><td>MERRILL LYNCH BANK USA        </td><td>UT         </td><td>454390.0          </td><td>84.0              </td><td>1.0              </td><td>2.0               </td><td>0.0               </td><td>1.0               </td><td>1.0               </td><td>1.0               </td><td>0          </td><td>N       </td><td>100900.0           </td><td>0.0               </td><td>108400.0         </td><td>81300.0           </td><td>0.0                </td></tr>\n",
       "<tr><td>2      </td><td>MAPLE GROVE   </td><td>MN     </td><td>55369.0           </td><td>TWIN CITIES-METRO CERT. DEVEL </td><td>MN         </td><td>0.0               </td><td>240.0             </td><td>6.0              </td><td>1.0               </td><td>4.0               </td><td>6.0               </td><td>1.0               </td><td>0.0               </td><td>N          </td><td>N       </td><td>186000.0           </td><td>0.0               </td><td>186000.0         </td><td>186000.0          </td><td>0.0                </td></tr>\n",
       "<tr><td>3      </td><td>CHICKASHA     </td><td>OK     </td><td>73018.0           </td><td>JPMORGAN CHASE BANK NATL ASSOC</td><td>IL         </td><td>0.0               </td><td>84.0              </td><td>10.0             </td><td>1.0               </td><td>0.0               </td><td>0.0               </td><td>0.0               </td><td>0.0               </td><td>N          </td><td>N       </td><td>750000.0           </td><td>0.0               </td><td>750000.0         </td><td>607500.0          </td><td>0.0                </td></tr>\n",
       "<tr><td>4      </td><td>DIAMOND BAR   </td><td>CA     </td><td>91765.0           </td><td>AURORA BANK FSB               </td><td>CO         </td><td>446191.0          </td><td>300.0             </td><td>2.0              </td><td>1.0               </td><td>0.0               </td><td>2.0               </td><td>1.0               </td><td>1.0               </td><td>0          </td><td>N       </td><td>280500.0           </td><td>0.0               </td><td>280500.0         </td><td>210375.0          </td><td>0.0                </td></tr>\n",
       "<tr><td>5      </td><td>WILMINGTON    </td><td>CA     </td><td>90744.0           </td><td>CITIBANK, N.A.                </td><td>SD         </td><td>0.0               </td><td>298.0             </td><td>2.0              </td><td>1.0               </td><td>0.0               </td><td>0.0               </td><td>1.0               </td><td>0.0               </td><td>N          </td><td>N       </td><td>261000.0           </td><td>0.0               </td><td>261000.0         </td><td>208800.0          </td><td>0.0                </td></tr>\n",
       "<tr><td>6      </td><td>LAFAYETTE     </td><td>LA     </td><td>70503.0           </td><td>WELLS FARGO BANK NATL ASSOC   </td><td>SD         </td><td>441120.0          </td><td>84.0              </td><td>19.0             </td><td>1.0               </td><td>0.0               </td><td>19.0              </td><td>1.0               </td><td>1.0               </td><td>Y          </td><td>N       </td><td>86483.0            </td><td>0.0               </td><td>30000.0          </td><td>15000.0           </td><td>0.0                </td></tr>\n",
       "<tr><td>7      </td><td>CHICAGO       </td><td>IL     </td><td>60647.0           </td><td>JPMORGAN CHASE BANK NATL ASSOC</td><td>IL         </td><td>511210.0          </td><td>84.0              </td><td>1.0              </td><td>1.0               </td><td>0.0               </td><td>1.0               </td><td>0.0               </td><td>1.0               </td><td>Y          </td><td>N       </td><td>44065.0            </td><td>0.0               </td><td>10000.0          </td><td>5000.0            </td><td>0.0                </td></tr>\n",
       "<tr><td>8      </td><td>Gladstone     </td><td>MO     </td><td>64118.0           </td><td>COMMERCE BANK                 </td><td>MO         </td><td>624120.0          </td><td>63.0              </td><td>3.0              </td><td>2.0               </td><td>20.0              </td><td>3.0               </td><td>38614.0           </td><td>1.0               </td><td>N          </td><td>N       </td><td>40000.0            </td><td>0.0               </td><td>40000.0          </td><td>20000.0           </td><td>0.0                </td></tr>\n",
       "<tr><td>9      </td><td>BEAUMONT      </td><td>TX     </td><td>77701.0           </td><td>CAPITAL ONE NATL ASSOC        </td><td>VA         </td><td>454210.0          </td><td>72.0              </td><td>3.0              </td><td>1.0               </td><td>0.0               </td><td>0.0               </td><td>1.0               </td><td>0.0               </td><td>N          </td><td>N       </td><td>60000.0            </td><td>0.0               </td><td>60000.0          </td><td>48600.0           </td><td>0.0                </td></tr>\n",
       "</tbody>\n",
       "</table><pre style='font-size: smaller; margin-bottom: 1em;'>[179833 rows x 20 columns]</pre>"
      ],
      "text/plain": [
       "         City            State    Zip                 Bank                            BankState    NAICS               Term                NoEmp              NewExist            CreateJob           RetainedJob         FranchiseCode       UrbanRural          RevLineCr    LowDoc    DisbursementGross    BalanceGross        GrAppv             SBA_Appv            Defaulted\n",
       "-------  --------------  -------  ------------------  ------------------------------  -----------  ------------------  ------------------  -----------------  ------------------  ------------------  ------------------  ------------------  ------------------  -----------  --------  -------------------  ------------------  -----------------  ------------------  -------------------\n",
       "type     enum            enum     int                 enum                            enum         int                 int                 int                int                 int                 int                 int                 int                 enum         enum      int                  int                 int                int                 int\n",
       "mins                              0.0                                                              0.0                 0.0                 0.0                0.0                 0.0                 0.0                 0.0                 0.0                                        0.0                  0.0                 500.0              250.0               0.0\n",
       "mean                              53773.700544393985                                               399594.72817002464  110.90885988667263  11.38415085106738  1.2807185362326887  9.0115273614965     11.433813593723062  2755.5899473400323  0.7598827801349027                         201926.88862444606   6.553808255436989   193398.5314152575  150058.35065866666  0.17522924046198418\n",
       "maxs                              99999.0                                                          928120.0            461.0               8500.0             2.0                 8800.0              8800.0              99999.0             2.0                                        11446325.0           996262.0            5000000.0          4869000.0           1.0\n",
       "sigma                             31182.082734237698                                               263331.7973921777   78.95806965689958   67.30104824719155  0.4520661496065112  246.60707495715351  247.46697982527505  12754.797773687817  0.6467730811038548                         290056.8000335532    2367.8805220862832  284469.6765889608  229388.82282767945  0.38016411904602204\n",
       "zeros                             43                                                               40267               161                 1369               220                 125596              87605               42030               64388                                      44                   179829              0                  0                   148321\n",
       "missing  3               4        0                   316                             318          0                   0                   0                  23                  0                   0                   0                   0                   932          855       0                    0                   0                  0                   0\n",
       "0        Cuyahoga Falls  OH       44224.0             PNC BANK, NATIONAL ASSOCIATION  OH           332710.0            84.0                3.0                1.0                 0.0                 3.0                 1.0                 1.0                 N            N         99000.0              0.0                 99000.0            49500.0             0.0\n",
       "1        LAWRENCEVILLE   GA       30043.0             MERRILL LYNCH BANK USA          UT           454390.0            84.0                1.0                2.0                 0.0                 1.0                 1.0                 1.0                 0            N         100900.0             0.0                 108400.0           81300.0             0.0\n",
       "2        MAPLE GROVE     MN       55369.0             TWIN CITIES-METRO CERT. DEVEL   MN           0.0                 240.0               6.0                1.0                 4.0                 6.0                 1.0                 0.0                 N            N         186000.0             0.0                 186000.0           186000.0            0.0\n",
       "3        CHICKASHA       OK       73018.0             JPMORGAN CHASE BANK NATL ASSOC  IL           0.0                 84.0                10.0               1.0                 0.0                 0.0                 0.0                 0.0                 N            N         750000.0             0.0                 750000.0           607500.0            0.0\n",
       "4        DIAMOND BAR     CA       91765.0             AURORA BANK FSB                 CO           446191.0            300.0               2.0                1.0                 0.0                 2.0                 1.0                 1.0                 0            N         280500.0             0.0                 280500.0           210375.0            0.0\n",
       "5        WILMINGTON      CA       90744.0             CITIBANK, N.A.                  SD           0.0                 298.0               2.0                1.0                 0.0                 0.0                 1.0                 0.0                 N            N         261000.0             0.0                 261000.0           208800.0            0.0\n",
       "6        LAFAYETTE       LA       70503.0             WELLS FARGO BANK NATL ASSOC     SD           441120.0            84.0                19.0               1.0                 0.0                 19.0                1.0                 1.0                 Y            N         86483.0              0.0                 30000.0            15000.0             0.0\n",
       "7        CHICAGO         IL       60647.0             JPMORGAN CHASE BANK NATL ASSOC  IL           511210.0            84.0                1.0                1.0                 0.0                 1.0                 0.0                 1.0                 Y            N         44065.0              0.0                 10000.0            5000.0              0.0\n",
       "8        Gladstone       MO       64118.0             COMMERCE BANK                   MO           624120.0            63.0                3.0                2.0                 20.0                3.0                 38614.0             1.0                 N            N         40000.0              0.0                 40000.0            20000.0             0.0\n",
       "9        BEAUMONT        TX       77701.0             CAPITAL ONE NATL ASSOC          VA           454210.0            72.0                3.0                1.0                 0.0                 0.0                 1.0                 0.0                 N            N         60000.0              0.0                 60000.0            48600.0             0.0\n",
       "[179833 rows x 20 columns]\n"
      ]
     },
     "metadata": {},
     "output_type": "display_data"
    }
   ],
   "source": [
    "df_h.describe()"
   ]
  },
  {
   "cell_type": "markdown",
   "id": "e0cc15c7",
   "metadata": {},
   "source": [
    "## **Set attributes for the categorical  variables - make non-numerical columns \"factor\" (categorical)**\n",
    "\n",
    "We will be using H2O-3 DRF model. The model can handle categorical variable and missing values.  \n",
    "I will need to **mark** categorical variables with `asfactor` method"
   ]
  },
  {
   "cell_type": "code",
   "execution_count": 5,
   "id": "9326b2a1",
   "metadata": {
    "tags": []
   },
   "outputs": [],
   "source": [
    "# Choose which columns to encode\n",
    "cat_columns = [\"City\",\"State\",\"Bank\",\"BankState\", \"NewExist\", \"RevLineCr\",\"LowDoc\",\"Zip\"]\n",
    "encoded_columns = cat_columns\n",
    "response = \"Defaulted\"\n",
    "\n",
    "df_h[encoded_columns+[response]] = df_h[encoded_columns+[response]].asfactor()"
   ]
  },
  {
   "cell_type": "markdown",
   "id": "3f3ea686",
   "metadata": {},
   "source": [
    "## **Split to train/test/validation**"
   ]
  },
  {
   "cell_type": "code",
   "execution_count": 6,
   "id": "075319ca",
   "metadata": {
    "tags": []
   },
   "outputs": [],
   "source": [
    "train,test,valid = df_h.split_frame(ratios=[.7, .15], seed=123)"
   ]
  },
  {
   "cell_type": "markdown",
   "id": "289ae474",
   "metadata": {},
   "source": [
    "## **Used H2O-3 to train Distributed Random Forest model with default parameters.**\n",
    "Documentation: https://docs.h2o.ai/h2o/latest-stable/h2o-docs/data-science/drf.html#defining-a-drf-model\n"
   ]
  },
  {
   "cell_type": "code",
   "execution_count": 7,
   "id": "4c210271",
   "metadata": {
    "tags": []
   },
   "outputs": [
    {
     "name": "stdout",
     "output_type": "stream",
     "text": [
      "Predictor columns: ['City', 'State', 'Zip', 'Bank', 'BankState', 'NAICS', 'Term', 'NoEmp', 'NewExist', 'CreateJob', 'RetainedJob', 'FranchiseCode', 'UrbanRural', 'RevLineCr', 'LowDoc', 'DisbursementGross', 'BalanceGross', 'GrAppv', 'SBA_Appv']\n",
      "drf Model Build progress: |██████████████████████████████████████████████████████| (done) 100%\n"
     ]
    }
   ],
   "source": [
    "from h2o.estimators import H2ORandomForestEstimator\n",
    "\n",
    "predictors = train.columns\n",
    "predictors.remove(\"Defaulted\")\n",
    "print(\"Predictor columns:\", predictors)    \n",
    "response_col = \"Defaulted\"\n",
    "\n",
    "drf = H2ORandomForestEstimator(nfolds=0,seed=123)\n",
    "\n",
    "drf.train(predictors, response_col, training_frame= train)\n",
    "model_summary = drf.summary()"
   ]
  },
  {
   "cell_type": "code",
   "execution_count": 8,
   "id": "e6310056",
   "metadata": {
    "tags": []
   },
   "outputs": [
    {
     "data": {
      "text/html": [
       "\n",
       "<style>\n",
       "\n",
       "#h2o-table-2.h2o-container {\n",
       "  overflow-x: auto;\n",
       "}\n",
       "#h2o-table-2 .h2o-table {\n",
       "  /* width: 100%; */\n",
       "  margin-top: 1em;\n",
       "  margin-bottom: 1em;\n",
       "}\n",
       "#h2o-table-2 .h2o-table caption {\n",
       "  white-space: nowrap;\n",
       "  caption-side: top;\n",
       "  text-align: left;\n",
       "  /* margin-left: 1em; */\n",
       "  margin: 0;\n",
       "  font-size: larger;\n",
       "}\n",
       "#h2o-table-2 .h2o-table thead {\n",
       "  white-space: nowrap; \n",
       "  position: sticky;\n",
       "  top: 0;\n",
       "  box-shadow: 0 -1px inset;\n",
       "}\n",
       "#h2o-table-2 .h2o-table tbody {\n",
       "  overflow: auto;\n",
       "}\n",
       "#h2o-table-2 .h2o-table th,\n",
       "#h2o-table-2 .h2o-table td {\n",
       "  text-align: right;\n",
       "  /* border: 1px solid; */\n",
       "}\n",
       "#h2o-table-2 .h2o-table tr:nth-child(even) {\n",
       "  /* background: #F5F5F5 */\n",
       "}\n",
       "\n",
       "</style>      \n",
       "<div id=\"h2o-table-2\" class=\"h2o-container\">\n",
       "  <table class=\"h2o-table\">\n",
       "    <caption>Model Summary: </caption>\n",
       "    <thead><tr><th></th>\n",
       "<th>number_of_trees</th>\n",
       "<th>number_of_internal_trees</th>\n",
       "<th>model_size_in_bytes</th>\n",
       "<th>min_depth</th>\n",
       "<th>max_depth</th>\n",
       "<th>mean_depth</th>\n",
       "<th>min_leaves</th>\n",
       "<th>max_leaves</th>\n",
       "<th>mean_leaves</th></tr></thead>\n",
       "    <tbody><tr><td></td>\n",
       "<td>50.0</td>\n",
       "<td>50.0</td>\n",
       "<td>5293379.0</td>\n",
       "<td>20.0</td>\n",
       "<td>20.0</td>\n",
       "<td>20.0</td>\n",
       "<td>5725.0</td>\n",
       "<td>7517.0</td>\n",
       "<td>6730.1</td></tr></tbody>\n",
       "  </table>\n",
       "</div>\n"
      ],
      "text/plain": [
       "Model Summary: \n",
       "    number_of_trees    number_of_internal_trees    model_size_in_bytes    min_depth    max_depth    mean_depth    min_leaves    max_leaves    mean_leaves\n",
       "--  -----------------  --------------------------  ---------------------  -----------  -----------  ------------  ------------  ------------  -------------\n",
       "    50                 50                          5.29338e+06            20           20           20            5725          7517          6730.1"
      ]
     },
     "execution_count": 8,
     "metadata": {},
     "output_type": "execute_result"
    }
   ],
   "source": [
    "model_summary"
   ]
  },
  {
   "cell_type": "markdown",
   "id": "f5a45a57",
   "metadata": {},
   "source": [
    "### **Model performance metrics on Test dataset**\n",
    "\n",
    "Alternative method to calculate metrics is to use `h2o.make_metrics(pred, actual)` function:   \n",
    "https://docs.h2o.ai/h2o/latest-stable/h2o-docs/performance-and-prediction.html#computing-model-metrics-from-general-predictions"
   ]
  },
  {
   "cell_type": "code",
   "execution_count": 9,
   "id": "77747c48",
   "metadata": {
    "tags": []
   },
   "outputs": [
    {
     "name": "stdout",
     "output_type": "stream",
     "text": [
      "Best accuracy threshold: 0.456615068949759 \n",
      "  Accuracy: 0.9346093691815\n",
      "Best F1 threshold: 0.37789810081215014 \n",
      "  F1: 0.8057286542035639\n",
      "Model AUC: 0.9562319892237096\n",
      "Model AUCPR: 0.8734020921112297\n"
     ]
    },
    {
     "data": {
      "text/html": [
       "\n",
       "<style>\n",
       "\n",
       "#h2o-table-3.h2o-container {\n",
       "  overflow-x: auto;\n",
       "}\n",
       "#h2o-table-3 .h2o-table {\n",
       "  /* width: 100%; */\n",
       "  margin-top: 1em;\n",
       "  margin-bottom: 1em;\n",
       "}\n",
       "#h2o-table-3 .h2o-table caption {\n",
       "  white-space: nowrap;\n",
       "  caption-side: top;\n",
       "  text-align: left;\n",
       "  /* margin-left: 1em; */\n",
       "  margin: 0;\n",
       "  font-size: larger;\n",
       "}\n",
       "#h2o-table-3 .h2o-table thead {\n",
       "  white-space: nowrap; \n",
       "  position: sticky;\n",
       "  top: 0;\n",
       "  box-shadow: 0 -1px inset;\n",
       "}\n",
       "#h2o-table-3 .h2o-table tbody {\n",
       "  overflow: auto;\n",
       "}\n",
       "#h2o-table-3 .h2o-table th,\n",
       "#h2o-table-3 .h2o-table td {\n",
       "  text-align: right;\n",
       "  /* border: 1px solid; */\n",
       "}\n",
       "#h2o-table-3 .h2o-table tr:nth-child(even) {\n",
       "  /* background: #F5F5F5 */\n",
       "}\n",
       "\n",
       "</style>      \n",
       "<div id=\"h2o-table-3\" class=\"h2o-container\">\n",
       "  <table class=\"h2o-table\">\n",
       "    <caption>Confusion Matrix (Act/Pred) for max f1 @ threshold = 0.37789810081215014</caption>\n",
       "    <thead><tr><th></th>\n",
       "<th>0</th>\n",
       "<th>1</th>\n",
       "<th>Error</th>\n",
       "<th>Rate</th></tr></thead>\n",
       "    <tbody><tr><td>0</td>\n",
       "<td>21392.0</td>\n",
       "<td>751.0</td>\n",
       "<td>0.0339</td>\n",
       "<td> (751.0/22143.0)</td></tr>\n",
       "<tr><td>1</td>\n",
       "<td>1026.0</td>\n",
       "<td>3685.0</td>\n",
       "<td>0.2178</td>\n",
       "<td> (1026.0/4711.0)</td></tr>\n",
       "<tr><td>Total</td>\n",
       "<td>22418.0</td>\n",
       "<td>4436.0</td>\n",
       "<td>0.0662</td>\n",
       "<td> (1777.0/26854.0)</td></tr></tbody>\n",
       "  </table>\n",
       "</div>\n"
      ],
      "text/plain": [
       "Confusion Matrix (Act/Pred) for max f1 @ threshold = 0.37789810081215014\n",
       "       0      1     Error    Rate\n",
       "-----  -----  ----  -------  ----------------\n",
       "0      21392  751   0.0339   (751.0/22143.0)\n",
       "1      1026   3685  0.2178   (1026.0/4711.0)\n",
       "Total  22418  4436  0.0662   (1777.0/26854.0)"
      ]
     },
     "execution_count": 9,
     "metadata": {},
     "output_type": "execute_result"
    }
   ],
   "source": [
    "print(\"Best accuracy threshold:\",drf.model_performance(test).accuracy()[0][0],\"\\n\",\n",
    "      \" Accuracy:\",\n",
    "      drf.model_performance(test).accuracy()[0][1])\n",
    "print(\"Best F1 threshold:\",drf.model_performance(test).F1()[0][0],\"\\n\",\n",
    "      \" F1:\",\n",
    "      drf.model_performance(test).F1()[0][1])\n",
    "print(\"Model AUC:\", drf.model_performance(test).auc())\n",
    "print(\"Model AUCPR:\", drf.model_performance(test).aucpr())\n",
    "drf.model_performance(test).confusion_matrix()"
   ]
  },
  {
   "cell_type": "markdown",
   "id": "4d63de5f",
   "metadata": {},
   "source": [
    "## **HyperParameter Tuning**\n",
    "H2O GridSearch for the following search space.\n",
    "\n",
    "```\n",
    "# DRF hyperparameters\n",
    "from h2o.grid.grid_search import H2OGridSearch\n",
    "\n",
    "# DRF hyperparameters\n",
    "drf_params2  = {'ntrees': [25,50,100],\n",
    "               'max_depth': [10,15,20,25]}\n",
    "\n",
    "# Train and validate a cartesian grid of DRFs\n",
    "drf_grid2  = H2OGridSearch(model=H2ORandomForestEstimator,\n",
    "                          grid_id='drf_grid2',\n",
    "                          hyper_params=drf_params2)\n",
    "\n",
    "drf_grid2.train(x=predictors,\n",
    "               y=response_col,\n",
    "               nfolds=0,\n",
    "               training_frame=train,\n",
    "               validation_frame=valid,\n",
    "               seed=123)\n",
    "```\n",
    "\n",
    "You can follow the progress of the Grid search job by using H2O Flow, the URL is shown right after `h2o.init()`.\n",
    "Answer following questions:\n",
    "- What is the best set of parameters for the DRF model using AUCPR metric?\n",
    "- What is the best model performance (AUCPR) on a validation dataset?\n",
    "- What is the best model performance (AUCPR) on a test dataset?\n",
    "- Produce Confusion Matrix using best F1 probability threshold"
   ]
  },
  {
   "cell_type": "code",
   "execution_count": 10,
   "id": "b41b8c39-748c-4acb-8a8d-73ad1ab09434",
   "metadata": {
    "tags": []
   },
   "outputs": [
    {
     "name": "stdout",
     "output_type": "stream",
     "text": [
      "drf Grid Build progress: |███████████████████████████████████████████████████████| (done) 100%\n"
     ]
    },
    {
     "data": {
      "text/html": [
       "\n",
       "<style>\n",
       "\n",
       "#h2o-table-4.h2o-container {\n",
       "  overflow-x: auto;\n",
       "}\n",
       "#h2o-table-4 .h2o-table {\n",
       "  /* width: 100%; */\n",
       "  margin-top: 1em;\n",
       "  margin-bottom: 1em;\n",
       "}\n",
       "#h2o-table-4 .h2o-table caption {\n",
       "  white-space: nowrap;\n",
       "  caption-side: top;\n",
       "  text-align: left;\n",
       "  /* margin-left: 1em; */\n",
       "  margin: 0;\n",
       "  font-size: larger;\n",
       "}\n",
       "#h2o-table-4 .h2o-table thead {\n",
       "  white-space: nowrap; \n",
       "  position: sticky;\n",
       "  top: 0;\n",
       "  box-shadow: 0 -1px inset;\n",
       "}\n",
       "#h2o-table-4 .h2o-table tbody {\n",
       "  overflow: auto;\n",
       "}\n",
       "#h2o-table-4 .h2o-table th,\n",
       "#h2o-table-4 .h2o-table td {\n",
       "  text-align: right;\n",
       "  /* border: 1px solid; */\n",
       "}\n",
       "#h2o-table-4 .h2o-table tr:nth-child(even) {\n",
       "  /* background: #F5F5F5 */\n",
       "}\n",
       "\n",
       "</style>      \n",
       "<div id=\"h2o-table-4\" class=\"h2o-container\">\n",
       "  <table class=\"h2o-table\">\n",
       "    <caption>Hyper-Parameter Search Summary: ordered by increasing logloss</caption>\n",
       "    <thead><tr><th></th>\n",
       "<th>max_depth</th>\n",
       "<th>ntrees</th>\n",
       "<th>model_ids</th>\n",
       "<th>logloss</th></tr></thead>\n",
       "    <tbody><tr><td></td>\n",
       "<td>20.0</td>\n",
       "<td>100.0</td>\n",
       "<td>drf_grid2_model_11</td>\n",
       "<td>0.1851478</td></tr>\n",
       "<tr><td></td>\n",
       "<td>25.0</td>\n",
       "<td>100.0</td>\n",
       "<td>drf_grid2_model_12</td>\n",
       "<td>0.1862623</td></tr>\n",
       "<tr><td></td>\n",
       "<td>20.0</td>\n",
       "<td>50.0</td>\n",
       "<td>drf_grid2_model_7</td>\n",
       "<td>0.1882485</td></tr>\n",
       "<tr><td></td>\n",
       "<td>15.0</td>\n",
       "<td>100.0</td>\n",
       "<td>drf_grid2_model_10</td>\n",
       "<td>0.1953589</td></tr>\n",
       "<tr><td></td>\n",
       "<td>20.0</td>\n",
       "<td>25.0</td>\n",
       "<td>drf_grid2_model_3</td>\n",
       "<td>0.1958864</td></tr>\n",
       "<tr><td></td>\n",
       "<td>15.0</td>\n",
       "<td>50.0</td>\n",
       "<td>drf_grid2_model_6</td>\n",
       "<td>0.1971946</td></tr>\n",
       "<tr><td></td>\n",
       "<td>15.0</td>\n",
       "<td>25.0</td>\n",
       "<td>drf_grid2_model_2</td>\n",
       "<td>0.1986369</td></tr>\n",
       "<tr><td></td>\n",
       "<td>25.0</td>\n",
       "<td>50.0</td>\n",
       "<td>drf_grid2_model_8</td>\n",
       "<td>0.2039817</td></tr>\n",
       "<tr><td></td>\n",
       "<td>10.0</td>\n",
       "<td>100.0</td>\n",
       "<td>drf_grid2_model_9</td>\n",
       "<td>0.2347524</td></tr>\n",
       "<tr><td></td>\n",
       "<td>10.0</td>\n",
       "<td>50.0</td>\n",
       "<td>drf_grid2_model_5</td>\n",
       "<td>0.2358679</td></tr>\n",
       "<tr><td></td>\n",
       "<td>10.0</td>\n",
       "<td>25.0</td>\n",
       "<td>drf_grid2_model_1</td>\n",
       "<td>0.2362337</td></tr>\n",
       "<tr><td></td>\n",
       "<td>25.0</td>\n",
       "<td>25.0</td>\n",
       "<td>drf_grid2_model_4</td>\n",
       "<td>0.2427123</td></tr></tbody>\n",
       "  </table>\n",
       "</div>\n"
      ],
      "text/plain": [
       "Hyper-Parameter Search Summary: ordered by increasing logloss\n",
       "    max_depth    ntrees    model_ids           logloss\n",
       "--  -----------  --------  ------------------  ---------\n",
       "    20           100       drf_grid2_model_11  0.185148\n",
       "    25           100       drf_grid2_model_12  0.186262\n",
       "    20           50        drf_grid2_model_7   0.188248\n",
       "    15           100       drf_grid2_model_10  0.195359\n",
       "    20           25        drf_grid2_model_3   0.195886\n",
       "    15           50        drf_grid2_model_6   0.197195\n",
       "    15           25        drf_grid2_model_2   0.198637\n",
       "    25           50        drf_grid2_model_8   0.203982\n",
       "    10           100       drf_grid2_model_9   0.234752\n",
       "    10           50        drf_grid2_model_5   0.235868\n",
       "    10           25        drf_grid2_model_1   0.236234\n",
       "    25           25        drf_grid2_model_4   0.242712"
      ]
     },
     "execution_count": 10,
     "metadata": {},
     "output_type": "execute_result"
    }
   ],
   "source": [
    "# DRF hyperparameters\n",
    "from h2o.grid.grid_search import H2OGridSearch\n",
    "\n",
    "# DRF hyperparameters\n",
    "drf_params2  = {'ntrees': [25,50,100],\n",
    "               'max_depth': [10,15,20,25]}\n",
    "\n",
    "# Train and validate a cartesian grid of DRFs\n",
    "drf_grid2  = H2OGridSearch(model=H2ORandomForestEstimator,\n",
    "                          grid_id='drf_grid2',\n",
    "                          hyper_params=drf_params2)\n",
    "\n",
    "drf_grid2.train(x=predictors,\n",
    "               y=response_col,\n",
    "               nfolds=0,\n",
    "               training_frame=train,\n",
    "               validation_frame=valid,\n",
    "               seed=123)\n"
   ]
  },
  {
   "cell_type": "code",
   "execution_count": 11,
   "id": "6c6cefc4-5b18-433a-a765-12eccc0fb8dd",
   "metadata": {
    "tags": []
   },
   "outputs": [
    {
     "data": {
      "text/html": [
       "\n",
       "<style>\n",
       "\n",
       "#h2o-table-5.h2o-container {\n",
       "  overflow-x: auto;\n",
       "}\n",
       "#h2o-table-5 .h2o-table {\n",
       "  /* width: 100%; */\n",
       "  margin-top: 1em;\n",
       "  margin-bottom: 1em;\n",
       "}\n",
       "#h2o-table-5 .h2o-table caption {\n",
       "  white-space: nowrap;\n",
       "  caption-side: top;\n",
       "  text-align: left;\n",
       "  /* margin-left: 1em; */\n",
       "  margin: 0;\n",
       "  font-size: larger;\n",
       "}\n",
       "#h2o-table-5 .h2o-table thead {\n",
       "  white-space: nowrap; \n",
       "  position: sticky;\n",
       "  top: 0;\n",
       "  box-shadow: 0 -1px inset;\n",
       "}\n",
       "#h2o-table-5 .h2o-table tbody {\n",
       "  overflow: auto;\n",
       "}\n",
       "#h2o-table-5 .h2o-table th,\n",
       "#h2o-table-5 .h2o-table td {\n",
       "  text-align: right;\n",
       "  /* border: 1px solid; */\n",
       "}\n",
       "#h2o-table-5 .h2o-table tr:nth-child(even) {\n",
       "  /* background: #F5F5F5 */\n",
       "}\n",
       "\n",
       "</style>      \n",
       "<div id=\"h2o-table-5\" class=\"h2o-container\">\n",
       "  <table class=\"h2o-table\">\n",
       "    <caption>Hyper-Parameter Search Summary: ordered by decreasing aucpr</caption>\n",
       "    <thead><tr><th></th>\n",
       "<th>max_depth</th>\n",
       "<th>ntrees</th>\n",
       "<th>model_ids</th>\n",
       "<th>aucpr</th></tr></thead>\n",
       "    <tbody><tr><td></td>\n",
       "<td>25.0</td>\n",
       "<td>100.0</td>\n",
       "<td>drf_grid2_model_12</td>\n",
       "<td>0.8806076</td></tr>\n",
       "<tr><td></td>\n",
       "<td>20.0</td>\n",
       "<td>100.0</td>\n",
       "<td>drf_grid2_model_11</td>\n",
       "<td>0.8798941</td></tr>\n",
       "<tr><td></td>\n",
       "<td>25.0</td>\n",
       "<td>50.0</td>\n",
       "<td>drf_grid2_model_8</td>\n",
       "<td>0.8758004</td></tr>\n",
       "<tr><td></td>\n",
       "<td>20.0</td>\n",
       "<td>50.0</td>\n",
       "<td>drf_grid2_model_7</td>\n",
       "<td>0.8757039</td></tr>\n",
       "<tr><td></td>\n",
       "<td>15.0</td>\n",
       "<td>100.0</td>\n",
       "<td>drf_grid2_model_10</td>\n",
       "<td>0.8717645</td></tr>\n",
       "<tr><td></td>\n",
       "<td>25.0</td>\n",
       "<td>25.0</td>\n",
       "<td>drf_grid2_model_4</td>\n",
       "<td>0.8706091</td></tr>\n",
       "<tr><td></td>\n",
       "<td>20.0</td>\n",
       "<td>25.0</td>\n",
       "<td>drf_grid2_model_3</td>\n",
       "<td>0.8702474</td></tr>\n",
       "<tr><td></td>\n",
       "<td>15.0</td>\n",
       "<td>50.0</td>\n",
       "<td>drf_grid2_model_6</td>\n",
       "<td>0.8682247</td></tr>\n",
       "<tr><td></td>\n",
       "<td>15.0</td>\n",
       "<td>25.0</td>\n",
       "<td>drf_grid2_model_2</td>\n",
       "<td>0.8638473</td></tr>\n",
       "<tr><td></td>\n",
       "<td>10.0</td>\n",
       "<td>100.0</td>\n",
       "<td>drf_grid2_model_9</td>\n",
       "<td>0.8320020</td></tr>\n",
       "<tr><td></td>\n",
       "<td>10.0</td>\n",
       "<td>50.0</td>\n",
       "<td>drf_grid2_model_5</td>\n",
       "<td>0.8294083</td></tr>\n",
       "<tr><td></td>\n",
       "<td>10.0</td>\n",
       "<td>25.0</td>\n",
       "<td>drf_grid2_model_1</td>\n",
       "<td>0.8246507</td></tr></tbody>\n",
       "  </table>\n",
       "</div>\n"
      ],
      "text/plain": [
       "Hyper-Parameter Search Summary: ordered by decreasing aucpr\n",
       "    max_depth    ntrees    model_ids           aucpr\n",
       "--  -----------  --------  ------------------  --------\n",
       "    25           100       drf_grid2_model_12  0.880608\n",
       "    20           100       drf_grid2_model_11  0.879894\n",
       "    25           50        drf_grid2_model_8   0.8758\n",
       "    20           50        drf_grid2_model_7   0.875704\n",
       "    15           100       drf_grid2_model_10  0.871764\n",
       "    25           25        drf_grid2_model_4   0.870609\n",
       "    20           25        drf_grid2_model_3   0.870247\n",
       "    15           50        drf_grid2_model_6   0.868225\n",
       "    15           25        drf_grid2_model_2   0.863847\n",
       "    10           100       drf_grid2_model_9   0.832002\n",
       "    10           50        drf_grid2_model_5   0.829408\n",
       "    10           25        drf_grid2_model_1   0.824651"
      ]
     },
     "execution_count": 11,
     "metadata": {},
     "output_type": "execute_result"
    }
   ],
   "source": [
    "# Get the grid results, sorted by validation AUCPR\n",
    "drf_grid2perf1 = drf_grid2.get_grid(sort_by='aucpr', decreasing=True)\n",
    "drf_grid2perf1"
   ]
  },
  {
   "cell_type": "code",
   "execution_count": 12,
   "id": "f3762eba-8cef-4895-99cb-6a485a1bb33d",
   "metadata": {
    "tags": []
   },
   "outputs": [
    {
     "data": {
      "text/plain": [
       "0.879360370754568"
      ]
     },
     "execution_count": 12,
     "metadata": {},
     "output_type": "execute_result"
    }
   ],
   "source": [
    "# Grab the top GBM model, chosen by validation AUCPR\n",
    "best_drf_grid2 = drf_grid2perf1.models[0]\n",
    "\n",
    "# Now let's evaluate the model performance on a test set\n",
    "# so we get an honest estimate of top model performance\n",
    "best_best_drf_grid2_perf1 = best_drf_grid2.model_performance(test)\n",
    "\n",
    "best_best_drf_grid2_perf1.aucpr()"
   ]
  },
  {
   "cell_type": "markdown",
   "id": "e52e871e-d1ef-44dd-af09-759ab36d11cd",
   "metadata": {},
   "source": [
    "### **The best max depth is 25 and n-trees is 100 for model 12**\n",
    "### **Validation AUCPR value of 0.8806 for model 12**\n",
    "### **Test AUCPR value is 0.8794**\n",
    "### **Confusion Matrix using best F1 probability threshold:**"
   ]
  },
  {
   "cell_type": "code",
   "execution_count": 13,
   "id": "65949759-ef5d-4bb3-993e-c369d3700724",
   "metadata": {
    "tags": []
   },
   "outputs": [
    {
     "data": {
      "text/html": [
       "\n",
       "<style>\n",
       "\n",
       "#h2o-table-6.h2o-container {\n",
       "  overflow-x: auto;\n",
       "}\n",
       "#h2o-table-6 .h2o-table {\n",
       "  /* width: 100%; */\n",
       "  margin-top: 1em;\n",
       "  margin-bottom: 1em;\n",
       "}\n",
       "#h2o-table-6 .h2o-table caption {\n",
       "  white-space: nowrap;\n",
       "  caption-side: top;\n",
       "  text-align: left;\n",
       "  /* margin-left: 1em; */\n",
       "  margin: 0;\n",
       "  font-size: larger;\n",
       "}\n",
       "#h2o-table-6 .h2o-table thead {\n",
       "  white-space: nowrap; \n",
       "  position: sticky;\n",
       "  top: 0;\n",
       "  box-shadow: 0 -1px inset;\n",
       "}\n",
       "#h2o-table-6 .h2o-table tbody {\n",
       "  overflow: auto;\n",
       "}\n",
       "#h2o-table-6 .h2o-table th,\n",
       "#h2o-table-6 .h2o-table td {\n",
       "  text-align: right;\n",
       "  /* border: 1px solid; */\n",
       "}\n",
       "#h2o-table-6 .h2o-table tr:nth-child(even) {\n",
       "  /* background: #F5F5F5 */\n",
       "}\n",
       "\n",
       "</style>      \n",
       "<div id=\"h2o-table-6\" class=\"h2o-container\">\n",
       "  <table class=\"h2o-table\">\n",
       "    <caption>Confusion Matrix (Act/Pred) for max f1 @ threshold = 0.37925940613917725</caption>\n",
       "    <thead><tr><th></th>\n",
       "<th>0</th>\n",
       "<th>1</th>\n",
       "<th>Error</th>\n",
       "<th>Rate</th></tr></thead>\n",
       "    <tbody><tr><td>0</td>\n",
       "<td>21410.0</td>\n",
       "<td>733.0</td>\n",
       "<td>0.0331</td>\n",
       "<td> (733.0/22143.0)</td></tr>\n",
       "<tr><td>1</td>\n",
       "<td>997.0</td>\n",
       "<td>3714.0</td>\n",
       "<td>0.2116</td>\n",
       "<td> (997.0/4711.0)</td></tr>\n",
       "<tr><td>Total</td>\n",
       "<td>22407.0</td>\n",
       "<td>4447.0</td>\n",
       "<td>0.0644</td>\n",
       "<td> (1730.0/26854.0)</td></tr></tbody>\n",
       "  </table>\n",
       "</div>\n"
      ],
      "text/plain": [
       "Confusion Matrix (Act/Pred) for max f1 @ threshold = 0.37925940613917725\n",
       "       0      1     Error    Rate\n",
       "-----  -----  ----  -------  ----------------\n",
       "0      21410  733   0.0331   (733.0/22143.0)\n",
       "1      997    3714  0.2116   (997.0/4711.0)\n",
       "Total  22407  4447  0.0644   (1730.0/26854.0)"
      ]
     },
     "execution_count": 13,
     "metadata": {},
     "output_type": "execute_result"
    }
   ],
   "source": [
    "best_best_drf_grid2_perf1.confusion_matrix()"
   ]
  },
  {
   "cell_type": "markdown",
   "id": "5650b256",
   "metadata": {},
   "source": [
    "## **HyperParameter Tuning Version/Option 2 (Early Stopping)**\n",
    "\n",
    "\n",
    "Tuned model using early stopping criteria by specifying `ntrees`=1000 and setting the parameters required for early stopping. Provided Validation data-frame for early stopping to work correctly.\n",
    "\n",
    "\n",
    "Alternative to find optimal setting for `ntrees` (number of trees in RF) parameter is to set it to high number, and use early stopping to find optimal number of trees.\n",
    "\n",
    "parameters tuned:\n",
    "```\n",
    "drf_params  = {'max_depth': [10,15, 25]}\n",
    "```\n",
    "Stopping parameters to be added to the `train` method:\n",
    "- stopping_rounds\n",
    "- stopping_metric\n",
    "- stopping_tolerance\n"
   ]
  },
  {
   "cell_type": "code",
   "execution_count": 16,
   "id": "62fd4dc7",
   "metadata": {
    "tags": []
   },
   "outputs": [
    {
     "name": "stdout",
     "output_type": "stream",
     "text": [
      "drf Grid Build progress: |███████████████████████████████████████████████████████| (done) 100%\n"
     ]
    },
    {
     "data": {
      "text/html": [
       "\n",
       "<style>\n",
       "\n",
       "#h2o-table-8.h2o-container {\n",
       "  overflow-x: auto;\n",
       "}\n",
       "#h2o-table-8 .h2o-table {\n",
       "  /* width: 100%; */\n",
       "  margin-top: 1em;\n",
       "  margin-bottom: 1em;\n",
       "}\n",
       "#h2o-table-8 .h2o-table caption {\n",
       "  white-space: nowrap;\n",
       "  caption-side: top;\n",
       "  text-align: left;\n",
       "  /* margin-left: 1em; */\n",
       "  margin: 0;\n",
       "  font-size: larger;\n",
       "}\n",
       "#h2o-table-8 .h2o-table thead {\n",
       "  white-space: nowrap; \n",
       "  position: sticky;\n",
       "  top: 0;\n",
       "  box-shadow: 0 -1px inset;\n",
       "}\n",
       "#h2o-table-8 .h2o-table tbody {\n",
       "  overflow: auto;\n",
       "}\n",
       "#h2o-table-8 .h2o-table th,\n",
       "#h2o-table-8 .h2o-table td {\n",
       "  text-align: right;\n",
       "  /* border: 1px solid; */\n",
       "}\n",
       "#h2o-table-8 .h2o-table tr:nth-child(even) {\n",
       "  /* background: #F5F5F5 */\n",
       "}\n",
       "\n",
       "</style>      \n",
       "<div id=\"h2o-table-8\" class=\"h2o-container\">\n",
       "  <table class=\"h2o-table\">\n",
       "    <caption>Hyper-Parameter Search Summary: ordered by decreasing aucpr</caption>\n",
       "    <thead><tr><th></th>\n",
       "<th>max_depth</th>\n",
       "<th>min_rows</th>\n",
       "<th>ntrees</th>\n",
       "<th>model_ids</th>\n",
       "<th>aucpr</th></tr></thead>\n",
       "    <tbody><tr><td></td>\n",
       "<td>25.0</td>\n",
       "<td>5.0</td>\n",
       "<td>1000.0</td>\n",
       "<td>drf_grid3_model_10</td>\n",
       "<td>0.8745997</td></tr>\n",
       "<tr><td></td>\n",
       "<td>25.0</td>\n",
       "<td>10.0</td>\n",
       "<td>1000.0</td>\n",
       "<td>drf_grid3_model_9</td>\n",
       "<td>0.8709754</td></tr>\n",
       "<tr><td></td>\n",
       "<td>20.0</td>\n",
       "<td>10.0</td>\n",
       "<td>1000.0</td>\n",
       "<td>drf_grid3_model_4</td>\n",
       "<td>0.8707267</td></tr>\n",
       "<tr><td></td>\n",
       "<td>15.0</td>\n",
       "<td>5.0</td>\n",
       "<td>1000.0</td>\n",
       "<td>drf_grid3_model_7</td>\n",
       "<td>0.8705623</td></tr>\n",
       "<tr><td></td>\n",
       "<td>25.0</td>\n",
       "<td>15.0</td>\n",
       "<td>1000.0</td>\n",
       "<td>drf_grid3_model_5</td>\n",
       "<td>0.8656880</td></tr>\n",
       "<tr><td></td>\n",
       "<td>15.0</td>\n",
       "<td>10.0</td>\n",
       "<td>1000.0</td>\n",
       "<td>drf_grid3_model_1</td>\n",
       "<td>0.8653282</td></tr>\n",
       "<tr><td></td>\n",
       "<td>15.0</td>\n",
       "<td>15.0</td>\n",
       "<td>1000.0</td>\n",
       "<td>drf_grid3_model_6</td>\n",
       "<td>0.8612371</td></tr>\n",
       "<tr><td></td>\n",
       "<td>10.0</td>\n",
       "<td>5.0</td>\n",
       "<td>1000.0</td>\n",
       "<td>drf_grid3_model_3</td>\n",
       "<td>0.8343764</td></tr>\n",
       "<tr><td></td>\n",
       "<td>10.0</td>\n",
       "<td>10.0</td>\n",
       "<td>1000.0</td>\n",
       "<td>drf_grid3_model_2</td>\n",
       "<td>0.8329777</td></tr></tbody>\n",
       "  </table>\n",
       "</div>\n"
      ],
      "text/plain": [
       "Hyper-Parameter Search Summary: ordered by decreasing aucpr\n",
       "    max_depth    min_rows    ntrees    model_ids           aucpr\n",
       "--  -----------  ----------  --------  ------------------  --------\n",
       "    25           5           1000      drf_grid3_model_10  0.8746\n",
       "    25           10          1000      drf_grid3_model_9   0.870975\n",
       "    20           10          1000      drf_grid3_model_4   0.870727\n",
       "    15           5           1000      drf_grid3_model_7   0.870562\n",
       "    25           15          1000      drf_grid3_model_5   0.865688\n",
       "    15           10          1000      drf_grid3_model_1   0.865328\n",
       "    15           15          1000      drf_grid3_model_6   0.861237\n",
       "    10           5           1000      drf_grid3_model_3   0.834376\n",
       "    10           10          1000      drf_grid3_model_2   0.832978"
      ]
     },
     "execution_count": 16,
     "metadata": {},
     "output_type": "execute_result"
    }
   ],
   "source": [
    "# DRF hyperparameters\n",
    "from h2o.grid.grid_search import H2OGridSearch\n",
    "\n",
    "# DRF hyperparameters\n",
    "drf_params3  = {'ntrees': [1000],\n",
    "               'max_depth': [10,15,20,25],\n",
    "               'min_rows' : [5, 10, 15]}\n",
    "\n",
    "search_criteria = {'strategy': \"RandomDiscrete\", 'stopping_metric': \"rmse\", 'stopping_tolerance': 0.0001, 'stopping_rounds': 10, \n",
    "                  'max_runtime_secs': 500}\n",
    "\n",
    "\n",
    "# Train and validate a cartesian grid of DRFs\n",
    "drf_grid3= H2OGridSearch(model=H2ORandomForestEstimator,\n",
    "                          grid_id='drf_grid3',\n",
    "                          hyper_params=drf_params3,\n",
    "                          search_criteria=search_criteria)\n",
    "\n",
    "drf_grid3.train(x=predictors,\n",
    "               y=response_col,\n",
    "               nfolds=0,\n",
    "               training_frame=train,\n",
    "               validation_frame=valid,\n",
    "               seed=123)\n",
    "\n",
    "# Get the grid results, sorted by validation AUCPR\n",
    "drf_grid3perf2 = drf_grid3.get_grid(sort_by='aucpr', decreasing=True)\n",
    "drf_grid3perf2\n"
   ]
  },
  {
   "cell_type": "code",
   "execution_count": 17,
   "id": "29280973-bfac-4a85-b114-6885efa6beed",
   "metadata": {
    "tags": []
   },
   "outputs": [
    {
     "data": {
      "text/plain": [
       "0.8741029599827863"
      ]
     },
     "execution_count": 17,
     "metadata": {},
     "output_type": "execute_result"
    }
   ],
   "source": [
    "# Grab the top GBM model, chosen by validation AUCPR\n",
    "best_drf_grid3 = drf_grid3perf2.models[0]\n",
    "\n",
    "# Now let's evaluate the model performance on a test set\n",
    "# so we get an honest estimate of top model performance\n",
    "best_drf_grid3_perf2 = best_drf_grid3.model_performance(test)\n",
    "\n",
    "best_drf_grid3_perf2.aucpr()"
   ]
  },
  {
   "cell_type": "markdown",
   "id": "23731463-71f5-41b1-a5f7-89576caf8824",
   "metadata": {
    "tags": []
   },
   "source": [
    "### **The best max depth is 25, min rows is 5, and n trees is 1000 for model 10**\n",
    "### **Validation AUCPR value of 0.8746 for model 10**\n",
    "### **Test AUCPR value is 0.8741**\n",
    "### **Confusion Matrix using best F1 probability threshold:**"
   ]
  },
  {
   "cell_type": "code",
   "execution_count": 18,
   "id": "a7bd9c5e-7b9e-42c5-b493-e666323b7ab4",
   "metadata": {
    "tags": []
   },
   "outputs": [
    {
     "data": {
      "text/html": [
       "\n",
       "<style>\n",
       "\n",
       "#h2o-table-9.h2o-container {\n",
       "  overflow-x: auto;\n",
       "}\n",
       "#h2o-table-9 .h2o-table {\n",
       "  /* width: 100%; */\n",
       "  margin-top: 1em;\n",
       "  margin-bottom: 1em;\n",
       "}\n",
       "#h2o-table-9 .h2o-table caption {\n",
       "  white-space: nowrap;\n",
       "  caption-side: top;\n",
       "  text-align: left;\n",
       "  /* margin-left: 1em; */\n",
       "  margin: 0;\n",
       "  font-size: larger;\n",
       "}\n",
       "#h2o-table-9 .h2o-table thead {\n",
       "  white-space: nowrap; \n",
       "  position: sticky;\n",
       "  top: 0;\n",
       "  box-shadow: 0 -1px inset;\n",
       "}\n",
       "#h2o-table-9 .h2o-table tbody {\n",
       "  overflow: auto;\n",
       "}\n",
       "#h2o-table-9 .h2o-table th,\n",
       "#h2o-table-9 .h2o-table td {\n",
       "  text-align: right;\n",
       "  /* border: 1px solid; */\n",
       "}\n",
       "#h2o-table-9 .h2o-table tr:nth-child(even) {\n",
       "  /* background: #F5F5F5 */\n",
       "}\n",
       "\n",
       "</style>      \n",
       "<div id=\"h2o-table-9\" class=\"h2o-container\">\n",
       "  <table class=\"h2o-table\">\n",
       "    <caption>Confusion Matrix (Act/Pred) for max f1 @ threshold = 0.36391658037187957</caption>\n",
       "    <thead><tr><th></th>\n",
       "<th>0</th>\n",
       "<th>1</th>\n",
       "<th>Error</th>\n",
       "<th>Rate</th></tr></thead>\n",
       "    <tbody><tr><td>0</td>\n",
       "<td>21365.0</td>\n",
       "<td>778.0</td>\n",
       "<td>0.0351</td>\n",
       "<td> (778.0/22143.0)</td></tr>\n",
       "<tr><td>1</td>\n",
       "<td>1017.0</td>\n",
       "<td>3694.0</td>\n",
       "<td>0.2159</td>\n",
       "<td> (1017.0/4711.0)</td></tr>\n",
       "<tr><td>Total</td>\n",
       "<td>22382.0</td>\n",
       "<td>4472.0</td>\n",
       "<td>0.0668</td>\n",
       "<td> (1795.0/26854.0)</td></tr></tbody>\n",
       "  </table>\n",
       "</div>\n"
      ],
      "text/plain": [
       "Confusion Matrix (Act/Pred) for max f1 @ threshold = 0.36391658037187957\n",
       "       0      1     Error    Rate\n",
       "-----  -----  ----  -------  ----------------\n",
       "0      21365  778   0.0351   (778.0/22143.0)\n",
       "1      1017   3694  0.2159   (1017.0/4711.0)\n",
       "Total  22382  4472  0.0668   (1795.0/26854.0)"
      ]
     },
     "execution_count": 18,
     "metadata": {},
     "output_type": "execute_result"
    }
   ],
   "source": [
    "best_drf_grid3_perf2.confusion_matrix()"
   ]
  },
  {
   "cell_type": "markdown",
   "id": "d4b5b6eb",
   "metadata": {},
   "source": [
    "## **Used best model parameters from the GridSearch and Trained new model as following:**\n",
    "- Trained model on a combined dataset: train+validation\n",
    "- `nfolds=0`\n",
    "- Evaluated trained model on test dataset"
   ]
  },
  {
   "cell_type": "code",
   "execution_count": 22,
   "id": "16208b79-6eca-41de-a994-3d1572b951bb",
   "metadata": {},
   "outputs": [
    {
     "data": {
      "text/html": [
       "<table class='dataframe'>\n",
       "<thead>\n",
       "<tr><th>BankState  </th><th style=\"text-align: right;\">  Zip</th><th>Bank                       </th><th style=\"text-align: right;\">  NAICS</th><th style=\"text-align: right;\">  Term</th><th style=\"text-align: right;\">  NewExist</th><th style=\"text-align: right;\">  Defaulted</th><th style=\"text-align: right;\">        GrAppv</th><th style=\"text-align: right;\">      SBA_Appv</th><th style=\"text-align: right;\">  UrbanRural</th><th style=\"text-align: right;\">  BalanceGross</th><th style=\"text-align: right;\">  NoEmp</th><th>LowDoc  </th><th style=\"text-align: right;\">  CreateJob</th><th>RevLineCr  </th><th style=\"text-align: right;\">  FranchiseCode</th><th style=\"text-align: right;\">  DisbursementGross</th><th>City         </th><th style=\"text-align: right;\">  RetainedJob</th><th>State  </th></tr>\n",
       "</thead>\n",
       "<tbody>\n",
       "<tr><td>WY         </td><td style=\"text-align: right;\">83002</td><td>WELLS FARGO BANK NATL ASSOC</td><td style=\"text-align: right;\">      0</td><td style=\"text-align: right;\">    84</td><td style=\"text-align: right;\">         1</td><td style=\"text-align: right;\">          0</td><td style=\"text-align: right;\"> 22000        </td><td style=\"text-align: right;\"> 17600        </td><td style=\"text-align: right;\">           1</td><td style=\"text-align: right;\">             0</td><td style=\"text-align: right;\">      2</td><td>Y       </td><td style=\"text-align: right;\">          0</td><td>0          </td><td style=\"text-align: right;\">              1</td><td style=\"text-align: right;\">      22000        </td><td>JACKSON      </td><td style=\"text-align: right;\">            0</td><td>WY     </td></tr>\n",
       "<tr><td>WY         </td><td style=\"text-align: right;\">83013</td><td>BANK OF JACKSON HOLE       </td><td style=\"text-align: right;\"> 114210</td><td style=\"text-align: right;\">    84</td><td style=\"text-align: right;\">         1</td><td style=\"text-align: right;\">          0</td><td style=\"text-align: right;\"> 68000        </td><td style=\"text-align: right;\"> 61200        </td><td style=\"text-align: right;\">           0</td><td style=\"text-align: right;\">             0</td><td style=\"text-align: right;\">      6</td><td>Y       </td><td style=\"text-align: right;\">          0</td><td>N          </td><td style=\"text-align: right;\">              1</td><td style=\"text-align: right;\">      68000        </td><td>MORAN        </td><td style=\"text-align: right;\">            0</td><td>WY     </td></tr>\n",
       "<tr><td>WY         </td><td style=\"text-align: right;\">83014</td><td>BANK OF THE WEST           </td><td style=\"text-align: right;\"> 235310</td><td style=\"text-align: right;\">   240</td><td style=\"text-align: right;\">         1</td><td style=\"text-align: right;\">          0</td><td style=\"text-align: right;\"> 80000        </td><td style=\"text-align: right;\"> 72000        </td><td style=\"text-align: right;\">           0</td><td style=\"text-align: right;\">             0</td><td style=\"text-align: right;\">     13</td><td>N       </td><td style=\"text-align: right;\">          0</td><td>N          </td><td style=\"text-align: right;\">              1</td><td style=\"text-align: right;\">      80000        </td><td>WILSON       </td><td style=\"text-align: right;\">            0</td><td>WY     </td></tr>\n",
       "<tr><td>WY         </td><td style=\"text-align: right;\">83025</td><td>FRONTIER CERT. DEVEL CO    </td><td style=\"text-align: right;\"> 451110</td><td style=\"text-align: right;\">   240</td><td style=\"text-align: right;\">         1</td><td style=\"text-align: right;\">          0</td><td style=\"text-align: right;\">     1.166e+06</td><td style=\"text-align: right;\">     1.166e+06</td><td style=\"text-align: right;\">           2</td><td style=\"text-align: right;\">             0</td><td style=\"text-align: right;\">     20</td><td>N       </td><td style=\"text-align: right;\">         15</td><td>N          </td><td style=\"text-align: right;\">              1</td><td style=\"text-align: right;\">          1.166e+06</td><td>TETON VILLAGE</td><td style=\"text-align: right;\">           15</td><td>WY     </td></tr>\n",
       "<tr><td>WY         </td><td style=\"text-align: right;\">83101</td><td>BANK OF THE WEST           </td><td style=\"text-align: right;\">      0</td><td style=\"text-align: right;\">   180</td><td style=\"text-align: right;\">         1</td><td style=\"text-align: right;\">          0</td><td style=\"text-align: right;\"> 40000        </td><td style=\"text-align: right;\"> 36000        </td><td style=\"text-align: right;\">           0</td><td style=\"text-align: right;\">             0</td><td style=\"text-align: right;\">      5</td><td>N       </td><td style=\"text-align: right;\">          0</td><td>N          </td><td style=\"text-align: right;\">              1</td><td style=\"text-align: right;\">      40000        </td><td>KEMMERER     </td><td style=\"text-align: right;\">            0</td><td>WY     </td></tr>\n",
       "<tr><td>WY         </td><td style=\"text-align: right;\">83110</td><td>FRONTIER CERT. DEVEL CO    </td><td style=\"text-align: right;\"> 444130</td><td style=\"text-align: right;\">   240</td><td style=\"text-align: right;\">         1</td><td style=\"text-align: right;\">          0</td><td style=\"text-align: right;\">330000        </td><td style=\"text-align: right;\">330000        </td><td style=\"text-align: right;\">           0</td><td style=\"text-align: right;\">             0</td><td style=\"text-align: right;\">     12</td><td>N       </td><td style=\"text-align: right;\">          1</td><td>N          </td><td style=\"text-align: right;\">              1</td><td style=\"text-align: right;\">     330000        </td><td>AFTON        </td><td style=\"text-align: right;\">           11</td><td>WY     </td></tr>\n",
       "<tr><td>WY         </td><td style=\"text-align: right;\">83116</td><td>BANK OF THE WEST           </td><td style=\"text-align: right;\">      0</td><td style=\"text-align: right;\">   180</td><td style=\"text-align: right;\">         1</td><td style=\"text-align: right;\">          0</td><td style=\"text-align: right;\">206000        </td><td style=\"text-align: right;\">154500        </td><td style=\"text-align: right;\">           0</td><td style=\"text-align: right;\">             0</td><td style=\"text-align: right;\">      8</td><td>N       </td><td style=\"text-align: right;\">          0</td><td>0          </td><td style=\"text-align: right;\">              1</td><td style=\"text-align: right;\">     206000        </td><td>DIAMONDVILLE </td><td style=\"text-align: right;\">            0</td><td>WY     </td></tr>\n",
       "<tr><td>WY         </td><td style=\"text-align: right;\">83422</td><td>BANK OF JACKSON HOLE       </td><td style=\"text-align: right;\">      0</td><td style=\"text-align: right;\">   240</td><td style=\"text-align: right;\">         1</td><td style=\"text-align: right;\">          0</td><td style=\"text-align: right;\">350000        </td><td style=\"text-align: right;\">297500        </td><td style=\"text-align: right;\">           0</td><td style=\"text-align: right;\">             0</td><td style=\"text-align: right;\">      1</td><td>N       </td><td style=\"text-align: right;\">          0</td><td>N          </td><td style=\"text-align: right;\">              1</td><td style=\"text-align: right;\">     350000        </td><td>DRIGGS       </td><td style=\"text-align: right;\">            0</td><td>ID     </td></tr>\n",
       "<tr><td>WY         </td><td style=\"text-align: right;\">83455</td><td>BANK OF JACKSON HOLE       </td><td style=\"text-align: right;\">      0</td><td style=\"text-align: right;\">    60</td><td style=\"text-align: right;\">         1</td><td style=\"text-align: right;\">          0</td><td style=\"text-align: right;\"> 86400        </td><td style=\"text-align: right;\"> 69120        </td><td style=\"text-align: right;\">           0</td><td style=\"text-align: right;\">             0</td><td style=\"text-align: right;\">      6</td><td>Y       </td><td style=\"text-align: right;\">          0</td><td>N          </td><td style=\"text-align: right;\">              1</td><td style=\"text-align: right;\">      86400        </td><td>TETON VILLAGE</td><td style=\"text-align: right;\">            0</td><td>WY     </td></tr>\n",
       "<tr><td>WY         </td><td style=\"text-align: right;\">95030</td><td>WELLS FARGO BANK NATL ASSOC</td><td style=\"text-align: right;\"> 114210</td><td style=\"text-align: right;\">   180</td><td style=\"text-align: right;\">         1</td><td style=\"text-align: right;\">          0</td><td style=\"text-align: right;\">300000        </td><td style=\"text-align: right;\">225000        </td><td style=\"text-align: right;\">           2</td><td style=\"text-align: right;\">             0</td><td style=\"text-align: right;\">     14</td><td>N       </td><td style=\"text-align: right;\">          2</td><td>0          </td><td style=\"text-align: right;\">              1</td><td style=\"text-align: right;\">     300000        </td><td>CODY         </td><td style=\"text-align: right;\">           14</td><td>WY     </td></tr>\n",
       "</tbody>\n",
       "</table><pre style='font-size: smaller; margin-bottom: 1em;'>[10 rows x 20 columns]</pre>"
      ],
      "text/plain": [
       "BankState      Zip  Bank                           NAICS    Term    NewExist    Defaulted          GrAppv        SBA_Appv    UrbanRural    BalanceGross    NoEmp  LowDoc      CreateJob  RevLineCr      FranchiseCode    DisbursementGross  City             RetainedJob  State\n",
       "-----------  -----  ---------------------------  -------  ------  ----------  -----------  --------------  --------------  ------------  --------------  -------  --------  -----------  -----------  ---------------  -------------------  -------------  -------------  -------\n",
       "WY           83002  WELLS FARGO BANK NATL ASSOC        0      84           1            0   22000           17600                     1               0        2  Y                   0  0                          1        22000          JACKSON                    0  WY\n",
       "WY           83013  BANK OF JACKSON HOLE          114210      84           1            0   68000           61200                     0               0        6  Y                   0  N                          1        68000          MORAN                      0  WY\n",
       "WY           83014  BANK OF THE WEST              235310     240           1            0   80000           72000                     0               0       13  N                   0  N                          1        80000          WILSON                     0  WY\n",
       "WY           83025  FRONTIER CERT. DEVEL CO       451110     240           1            0       1.166e+06       1.166e+06             2               0       20  N                  15  N                          1            1.166e+06  TETON VILLAGE             15  WY\n",
       "WY           83101  BANK OF THE WEST                   0     180           1            0   40000           36000                     0               0        5  N                   0  N                          1        40000          KEMMERER                   0  WY\n",
       "WY           83110  FRONTIER CERT. DEVEL CO       444130     240           1            0  330000          330000                     0               0       12  N                   1  N                          1       330000          AFTON                     11  WY\n",
       "WY           83116  BANK OF THE WEST                   0     180           1            0  206000          154500                     0               0        8  N                   0  0                          1       206000          DIAMONDVILLE               0  WY\n",
       "WY           83422  BANK OF JACKSON HOLE               0     240           1            0  350000          297500                     0               0        1  N                   0  N                          1       350000          DRIGGS                     0  ID\n",
       "WY           83455  BANK OF JACKSON HOLE               0      60           1            0   86400           69120                     0               0        6  Y                   0  N                          1        86400          TETON VILLAGE              0  WY\n",
       "WY           95030  WELLS FARGO BANK NATL ASSOC   114210     180           1            0  300000          225000                     2               0       14  N                   2  0                          1       300000          CODY                      14  WY\n",
       "[10 rows x 20 columns]\n"
      ]
     },
     "execution_count": 22,
     "metadata": {},
     "output_type": "execute_result"
    }
   ],
   "source": [
    "combined_data = train.merge(valid, all_x=True)\n",
    "combined_data.tail()"
   ]
  },
  {
   "cell_type": "code",
   "execution_count": 23,
   "id": "e4f91f53",
   "metadata": {},
   "outputs": [
    {
     "name": "stdout",
     "output_type": "stream",
     "text": [
      "drf Grid Build progress: |███████████████████████████████████████████████████████| (done) 100%\n"
     ]
    },
    {
     "data": {
      "text/html": [
       "\n",
       "<style>\n",
       "\n",
       "#h2o-table-10.h2o-container {\n",
       "  overflow-x: auto;\n",
       "}\n",
       "#h2o-table-10 .h2o-table {\n",
       "  /* width: 100%; */\n",
       "  margin-top: 1em;\n",
       "  margin-bottom: 1em;\n",
       "}\n",
       "#h2o-table-10 .h2o-table caption {\n",
       "  white-space: nowrap;\n",
       "  caption-side: top;\n",
       "  text-align: left;\n",
       "  /* margin-left: 1em; */\n",
       "  margin: 0;\n",
       "  font-size: larger;\n",
       "}\n",
       "#h2o-table-10 .h2o-table thead {\n",
       "  white-space: nowrap; \n",
       "  position: sticky;\n",
       "  top: 0;\n",
       "  box-shadow: 0 -1px inset;\n",
       "}\n",
       "#h2o-table-10 .h2o-table tbody {\n",
       "  overflow: auto;\n",
       "}\n",
       "#h2o-table-10 .h2o-table th,\n",
       "#h2o-table-10 .h2o-table td {\n",
       "  text-align: right;\n",
       "  /* border: 1px solid; */\n",
       "}\n",
       "#h2o-table-10 .h2o-table tr:nth-child(even) {\n",
       "  /* background: #F5F5F5 */\n",
       "}\n",
       "\n",
       "</style>      \n",
       "<div id=\"h2o-table-10\" class=\"h2o-container\">\n",
       "  <table class=\"h2o-table\">\n",
       "    <caption>Hyper-Parameter Search Summary: ordered by decreasing aucpr</caption>\n",
       "    <thead><tr><th></th>\n",
       "<th>max_depth</th>\n",
       "<th>min_rows</th>\n",
       "<th>ntrees</th>\n",
       "<th>model_ids</th>\n",
       "<th>aucpr</th></tr></thead>\n",
       "    <tbody><tr><td></td>\n",
       "<td>25.0</td>\n",
       "<td>5.0</td>\n",
       "<td>1000.0</td>\n",
       "<td>drf_grid4_model_1</td>\n",
       "<td>0.8720056</td></tr></tbody>\n",
       "  </table>\n",
       "</div>\n"
      ],
      "text/plain": [
       "Hyper-Parameter Search Summary: ordered by decreasing aucpr\n",
       "    max_depth    min_rows    ntrees    model_ids          aucpr\n",
       "--  -----------  ----------  --------  -----------------  --------\n",
       "    25           5           1000      drf_grid4_model_1  0.872006"
      ]
     },
     "execution_count": 23,
     "metadata": {},
     "output_type": "execute_result"
    }
   ],
   "source": [
    "# DRF hyperparameters\n",
    "from h2o.grid.grid_search import H2OGridSearch\n",
    "\n",
    "# DRF hyperparameters\n",
    "drf_params4  = {'ntrees': [1000],\n",
    "               'max_depth': [25],\n",
    "               'min_rows' : [5]}\n",
    "\n",
    "\n",
    "# Train and validate a cartesian grid of DRFs\n",
    "drf_grid4= H2OGridSearch(model=H2ORandomForestEstimator,\n",
    "                          grid_id='drf_grid4',\n",
    "                          hyper_params=drf_params4)\n",
    "\n",
    "drf_grid4.train(x=predictors,\n",
    "               y=response_col,\n",
    "               nfolds=0,\n",
    "               training_frame=combined_data,\n",
    "               seed=123)\n",
    "\n",
    "# Get the grid results, sorted by validation AUCPR\n",
    "drf_grid4perf2 = drf_grid4.get_grid(sort_by='aucpr', decreasing=True)\n",
    "drf_grid4perf2"
   ]
  },
  {
   "cell_type": "code",
   "execution_count": 24,
   "id": "9b86a512-d18d-4df3-86c1-02a7c8dd1d11",
   "metadata": {
    "tags": []
   },
   "outputs": [
    {
     "data": {
      "text/plain": [
       "0.8775779188832054"
      ]
     },
     "execution_count": 24,
     "metadata": {},
     "output_type": "execute_result"
    }
   ],
   "source": [
    "# Grab the top GBM model, chosen by validation AUCPR\n",
    "best_drf_grid4 = drf_grid4perf2.models[0]\n",
    "\n",
    "# Now let's evaluate the model performance on a test set\n",
    "# so we get an honest estimate of top model performance\n",
    "best_drf_grid4_perf2 = best_drf_grid4.model_performance(test)\n",
    "print(\"Question 4 AUCPR on test data: \")\n",
    "best_drf_grid4_perf2.aucpr()"
   ]
  },
  {
   "cell_type": "markdown",
   "id": "0d57e5cd-c8ec-43c4-9b36-082f0590499a",
   "metadata": {},
   "source": [
    "### **Compared AUCPR (test dataset) metrics from the Models above:\n",
    "    4th AUCPR on test data: 0.8776\n",
    "\n",
    "    3rd AUCPR on test data: 0.8741\n",
    "\n",
    "    2nd AUCPR on test data: 0.8794\n",
    "    \n",
    "    The difference between 2,3, and 4's AUCPR metric is negligible\n"
   ]
  },
  {
   "cell_type": "code",
   "execution_count": 26,
   "id": "4db273e8-2cc5-463c-8149-97cd89969d26",
   "metadata": {
    "tags": []
   },
   "outputs": [
    {
     "data": {
      "text/html": [
       "\n",
       "<style>\n",
       "\n",
       "#h2o-table-12.h2o-container {\n",
       "  overflow-x: auto;\n",
       "}\n",
       "#h2o-table-12 .h2o-table {\n",
       "  /* width: 100%; */\n",
       "  margin-top: 1em;\n",
       "  margin-bottom: 1em;\n",
       "}\n",
       "#h2o-table-12 .h2o-table caption {\n",
       "  white-space: nowrap;\n",
       "  caption-side: top;\n",
       "  text-align: left;\n",
       "  /* margin-left: 1em; */\n",
       "  margin: 0;\n",
       "  font-size: larger;\n",
       "}\n",
       "#h2o-table-12 .h2o-table thead {\n",
       "  white-space: nowrap; \n",
       "  position: sticky;\n",
       "  top: 0;\n",
       "  box-shadow: 0 -1px inset;\n",
       "}\n",
       "#h2o-table-12 .h2o-table tbody {\n",
       "  overflow: auto;\n",
       "}\n",
       "#h2o-table-12 .h2o-table th,\n",
       "#h2o-table-12 .h2o-table td {\n",
       "  text-align: right;\n",
       "  /* border: 1px solid; */\n",
       "}\n",
       "#h2o-table-12 .h2o-table tr:nth-child(even) {\n",
       "  /* background: #F5F5F5 */\n",
       "}\n",
       "\n",
       "</style>      \n",
       "<div id=\"h2o-table-12\" class=\"h2o-container\">\n",
       "  <table class=\"h2o-table\">\n",
       "    <caption>Confusion Matrix (Act/Pred) for max f1 @ threshold = 0.3287460552214511</caption>\n",
       "    <thead><tr><th></th>\n",
       "<th>0</th>\n",
       "<th>1</th>\n",
       "<th>Error</th>\n",
       "<th>Rate</th></tr></thead>\n",
       "    <tbody><tr><td>0</td>\n",
       "<td>21244.0</td>\n",
       "<td>899.0</td>\n",
       "<td>0.0406</td>\n",
       "<td> (899.0/22143.0)</td></tr>\n",
       "<tr><td>1</td>\n",
       "<td>908.0</td>\n",
       "<td>3803.0</td>\n",
       "<td>0.1927</td>\n",
       "<td> (908.0/4711.0)</td></tr>\n",
       "<tr><td>Total</td>\n",
       "<td>22152.0</td>\n",
       "<td>4702.0</td>\n",
       "<td>0.0673</td>\n",
       "<td> (1807.0/26854.0)</td></tr></tbody>\n",
       "  </table>\n",
       "</div>\n"
      ],
      "text/plain": [
       "Confusion Matrix (Act/Pred) for max f1 @ threshold = 0.3287460552214511\n",
       "       0      1     Error    Rate\n",
       "-----  -----  ----  -------  ----------------\n",
       "0      21244  899   0.0406   (899.0/22143.0)\n",
       "1      908    3803  0.1927   (908.0/4711.0)\n",
       "Total  22152  4702  0.0673   (1807.0/26854.0)"
      ]
     },
     "execution_count": 26,
     "metadata": {},
     "output_type": "execute_result"
    }
   ],
   "source": [
    "best_drf_grid4_perf2.confusion_matrix()"
   ]
  },
  {
   "cell_type": "markdown",
   "id": "15897508",
   "metadata": {},
   "source": [
    "## Question 5\n",
    "\n",
    "Review following documentation section first: https://docs.h2o.ai/h2o/latest-stable/h2o-docs/cross-validation.html\n",
    "\n",
    "- Train DRF model with the parameters found in the Question 3.\n",
    "- Use full data to train the model.\n",
    "- Use cross-validation to produce reliable metrics for the model performance\n",
    "- Produce model metrics using cross-validation \n",
    "\n",
    "**Note**: understand why the model training takes significantly longer than before we used cross-validation"
   ]
  },
  {
   "cell_type": "code",
   "execution_count": null,
   "id": "7b5bcebb-2b1d-4a53-a8b9-5e67b94d000a",
   "metadata": {},
   "outputs": [],
   "source": [
    "# DRF hyperparameters\n",
    "from h2o.grid.grid_search import H2OGridSearch\n",
    "\n",
    "# DRF hyperparameters\n",
    "drf_params5  = {'ntrees': [1000],\n",
    "               'max_depth': [25],\n",
    "               'min_rows' : [5]}\n",
    "\n",
    "\n",
    "# Train and validate a cartesian grid of DRFs\n",
    "drf_grid5= H2OGridSearch(model=H2ORandomForestEstimator,\n",
    "                          grid_id='drf_grid5',\n",
    "                          hyper_params=drf_params5)\n",
    "\n",
    "drf_grid5.train(x=predictors,\n",
    "               y=response_col,\n",
    "               nfolds=2,\n",
    "               training_frame=df_h,\n",
    "               seed=123)\n",
    "\n",
    "# Get the grid results, sorted by validation AUCPR\n",
    "drf_grid5perf2 = drf_grid5.get_grid(sort_by='aucpr', decreasing=True)\n",
    "# Grab the top GBM model, chosen by validation AUCPR\n",
    "best_drf_grid5 = drf_grid5perf2.models[0]\n",
    "\n",
    "# Now let's evaluate the model performance on a test set\n",
    "# so we get an honest estimate of top model performance\n",
    "best_drf_grid5_perf2 = best_drf_grid5.model_performance(test)\n",
    "print(\"AUCPR value: \")\n",
    "best_drf_grid5_perf2.aucpr()"
   ]
  },
  {
   "cell_type": "markdown",
   "id": "ea1db249-0e3d-48be-a916-2e6a0070e241",
   "metadata": {},
   "source": [
    "AUCPR value: 0.8789"
   ]
  },
  {
   "cell_type": "markdown",
   "id": "a493a2f4-83d2-4c25-8263-35252744c385",
   "metadata": {},
   "source": [
    "### The mode took too long to run and used up too many resources for just 2 cross validation folds. If not, I would have tried to run 5 folds as well."
   ]
  }
 ],
 "metadata": {
  "kernelspec": {
   "display_name": "Python 3 (ipykernel)",
   "language": "python",
   "name": "python3"
  },
  "language_info": {
   "codemirror_mode": {
    "name": "ipython",
    "version": 3
   },
   "file_extension": ".py",
   "mimetype": "text/x-python",
   "name": "python",
   "nbconvert_exporter": "python",
   "pygments_lexer": "ipython3",
   "version": "3.11.7"
  }
 },
 "nbformat": 4,
 "nbformat_minor": 5
}
