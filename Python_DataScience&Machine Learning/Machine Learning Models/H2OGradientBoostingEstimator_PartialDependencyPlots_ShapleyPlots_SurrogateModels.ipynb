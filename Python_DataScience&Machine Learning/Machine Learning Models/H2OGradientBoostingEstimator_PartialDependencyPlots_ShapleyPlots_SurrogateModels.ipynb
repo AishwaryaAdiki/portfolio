{
 "cells": [
  {
   "attachments": {},
   "cell_type": "markdown",
   "metadata": {},
   "source": [
    "# **Resources:**\n",
    "- https://github.com/slundberg/shap\n",
    "- H2O Explainability best practices: https://github.com/h2oai/h2o-tutorials/blob/master/best-practices/model-interpretability/interpreting_models.ipynb\n"
   ]
  },
  {
   "attachments": {},
   "cell_type": "markdown",
   "metadata": {},
   "source": [
    "## **Preparation**\n"
   ]
  },
  {
   "cell_type": "code",
   "execution_count": 1,
   "metadata": {},
   "outputs": [
    {
     "name": "stdout",
     "output_type": "stream",
     "text": [
      "Requirement already satisfied: shap in /opt/anaconda3/lib/python3.11/site-packages (0.45.0)\n",
      "Requirement already satisfied: numpy in /opt/anaconda3/lib/python3.11/site-packages (from shap) (1.26.4)\n",
      "Requirement already satisfied: scipy in /opt/anaconda3/lib/python3.11/site-packages (from shap) (1.11.4)\n",
      "Requirement already satisfied: scikit-learn in /opt/anaconda3/lib/python3.11/site-packages (from shap) (1.2.2)\n",
      "Requirement already satisfied: pandas in /opt/anaconda3/lib/python3.11/site-packages (from shap) (2.1.4)\n",
      "Requirement already satisfied: tqdm>=4.27.0 in /opt/anaconda3/lib/python3.11/site-packages (from shap) (4.65.0)\n",
      "Requirement already satisfied: packaging>20.9 in /opt/anaconda3/lib/python3.11/site-packages (from shap) (23.1)\n",
      "Requirement already satisfied: slicer==0.0.7 in /opt/anaconda3/lib/python3.11/site-packages (from shap) (0.0.7)\n",
      "Requirement already satisfied: numba in /opt/anaconda3/lib/python3.11/site-packages (from shap) (0.59.0)\n",
      "Requirement already satisfied: cloudpickle in /opt/anaconda3/lib/python3.11/site-packages (from shap) (2.2.1)\n",
      "Requirement already satisfied: llvmlite<0.43,>=0.42.0dev0 in /opt/anaconda3/lib/python3.11/site-packages (from numba->shap) (0.42.0)\n",
      "Requirement already satisfied: python-dateutil>=2.8.2 in /opt/anaconda3/lib/python3.11/site-packages (from pandas->shap) (2.8.2)\n",
      "Requirement already satisfied: pytz>=2020.1 in /opt/anaconda3/lib/python3.11/site-packages (from pandas->shap) (2023.3.post1)\n",
      "Requirement already satisfied: tzdata>=2022.1 in /opt/anaconda3/lib/python3.11/site-packages (from pandas->shap) (2023.3)\n",
      "Requirement already satisfied: joblib>=1.1.1 in /opt/anaconda3/lib/python3.11/site-packages (from scikit-learn->shap) (1.2.0)\n",
      "Requirement already satisfied: threadpoolctl>=2.0.0 in /opt/anaconda3/lib/python3.11/site-packages (from scikit-learn->shap) (2.2.0)\n",
      "Requirement already satisfied: six>=1.5 in /opt/anaconda3/lib/python3.11/site-packages (from python-dateutil>=2.8.2->pandas->shap) (1.16.0)\n",
      "Note: you may need to restart the kernel to use updated packages.\n"
     ]
    }
   ],
   "source": [
    "pip install shap"
   ]
  },
  {
   "cell_type": "code",
   "execution_count": 2,
   "metadata": {},
   "outputs": [
    {
     "data": {
      "text/html": [
       "<style>.container { width:80% !important; }</style>"
      ],
      "text/plain": [
       "<IPython.core.display.HTML object>"
      ]
     },
     "metadata": {},
     "output_type": "display_data"
    }
   ],
   "source": [
    "#Extend cell width\n",
    "from IPython.display import display, HTML\n",
    "display(HTML(\"<style>.container { width:80% !important; }</style>\"))\n",
    "\n",
    "import warnings\n",
    "warnings.filterwarnings('ignore')\n",
    "\n",
    "import pandas as pd \n",
    "import shap\n",
    "\n",
    "import h2o\n",
    "from h2o.estimators import H2OTargetEncoderEstimator"
   ]
  },
  {
   "cell_type": "code",
   "execution_count": 4,
   "metadata": {},
   "outputs": [],
   "source": [
    "try:\n",
    "    h2o.cluster().shutdown()\n",
    "except:\n",
    "    pass "
   ]
  },
  {
   "cell_type": "code",
   "execution_count": 5,
   "metadata": {},
   "outputs": [
    {
     "name": "stdout",
     "output_type": "stream",
     "text": [
      "Checking whether there is an H2O instance running at http://localhost:54321. connected.\n"
     ]
    },
    {
     "data": {
      "text/html": [
       "\n",
       "<style>\n",
       "\n",
       "#h2o-table-1.h2o-container {\n",
       "  overflow-x: auto;\n",
       "}\n",
       "#h2o-table-1 .h2o-table {\n",
       "  /* width: 100%; */\n",
       "  margin-top: 1em;\n",
       "  margin-bottom: 1em;\n",
       "}\n",
       "#h2o-table-1 .h2o-table caption {\n",
       "  white-space: nowrap;\n",
       "  caption-side: top;\n",
       "  text-align: left;\n",
       "  /* margin-left: 1em; */\n",
       "  margin: 0;\n",
       "  font-size: larger;\n",
       "}\n",
       "#h2o-table-1 .h2o-table thead {\n",
       "  white-space: nowrap; \n",
       "  position: sticky;\n",
       "  top: 0;\n",
       "  box-shadow: 0 -1px inset;\n",
       "}\n",
       "#h2o-table-1 .h2o-table tbody {\n",
       "  overflow: auto;\n",
       "}\n",
       "#h2o-table-1 .h2o-table th,\n",
       "#h2o-table-1 .h2o-table td {\n",
       "  text-align: right;\n",
       "  /* border: 1px solid; */\n",
       "}\n",
       "#h2o-table-1 .h2o-table tr:nth-child(even) {\n",
       "  /* background: #F5F5F5 */\n",
       "}\n",
       "\n",
       "</style>      \n",
       "<div id=\"h2o-table-1\" class=\"h2o-container\">\n",
       "  <table class=\"h2o-table\">\n",
       "    <caption></caption>\n",
       "    <thead></thead>\n",
       "    <tbody><tr><td>H2O_cluster_uptime:</td>\n",
       "<td>15 days 4 hours 2 mins</td></tr>\n",
       "<tr><td>H2O_cluster_timezone:</td>\n",
       "<td>America/Chicago</td></tr>\n",
       "<tr><td>H2O_data_parsing_timezone:</td>\n",
       "<td>UTC</td></tr>\n",
       "<tr><td>H2O_cluster_version:</td>\n",
       "<td>3.46.0.1</td></tr>\n",
       "<tr><td>H2O_cluster_version_age:</td>\n",
       "<td>1 month and 9 days</td></tr>\n",
       "<tr><td>H2O_cluster_name:</td>\n",
       "<td>H2O_from_python_aishwaryaadiki_plrork</td></tr>\n",
       "<tr><td>H2O_cluster_total_nodes:</td>\n",
       "<td>1</td></tr>\n",
       "<tr><td>H2O_cluster_free_memory:</td>\n",
       "<td>7.038 Gb</td></tr>\n",
       "<tr><td>H2O_cluster_total_cores:</td>\n",
       "<td>10</td></tr>\n",
       "<tr><td>H2O_cluster_allowed_cores:</td>\n",
       "<td>3</td></tr>\n",
       "<tr><td>H2O_cluster_status:</td>\n",
       "<td>locked, healthy</td></tr>\n",
       "<tr><td>H2O_connection_url:</td>\n",
       "<td>http://localhost:54321</td></tr>\n",
       "<tr><td>H2O_connection_proxy:</td>\n",
       "<td>{\"http\": null, \"https\": null}</td></tr>\n",
       "<tr><td>H2O_internal_security:</td>\n",
       "<td>False</td></tr>\n",
       "<tr><td>Python_version:</td>\n",
       "<td>3.11.7 final</td></tr></tbody>\n",
       "  </table>\n",
       "</div>\n"
      ],
      "text/plain": [
       "--------------------------  -------------------------------------\n",
       "H2O_cluster_uptime:         15 days 4 hours 2 mins\n",
       "H2O_cluster_timezone:       America/Chicago\n",
       "H2O_data_parsing_timezone:  UTC\n",
       "H2O_cluster_version:        3.46.0.1\n",
       "H2O_cluster_version_age:    1 month and 9 days\n",
       "H2O_cluster_name:           H2O_from_python_aishwaryaadiki_plrork\n",
       "H2O_cluster_total_nodes:    1\n",
       "H2O_cluster_free_memory:    7.038 Gb\n",
       "H2O_cluster_total_cores:    10\n",
       "H2O_cluster_allowed_cores:  3\n",
       "H2O_cluster_status:         locked, healthy\n",
       "H2O_connection_url:         http://localhost:54321\n",
       "H2O_connection_proxy:       {\"http\": null, \"https\": null}\n",
       "H2O_internal_security:      False\n",
       "Python_version:             3.11.7 final\n",
       "--------------------------  -------------------------------------"
      ]
     },
     "metadata": {},
     "output_type": "display_data"
    }
   ],
   "source": [
    "#Limit to 3 threads and 8GB memory\n",
    "h2o.init(nthreads=3, max_mem_size=8)"
   ]
  },
  {
   "cell_type": "markdown",
   "metadata": {},
   "source": [
    "## Load Data"
   ]
  },
  {
   "cell_type": "code",
   "execution_count": 1,
   "metadata": {},
   "outputs": [
    {
     "ename": "NameError",
     "evalue": "name 'h2o' is not defined",
     "output_type": "error",
     "traceback": [
      "\u001b[0;31m---------------------------------------------------------------------------\u001b[0m",
      "\u001b[0;31mNameError\u001b[0m                                 Traceback (most recent call last)",
      "Cell \u001b[0;32mIn[1], line 1\u001b[0m\n\u001b[0;32m----> 1\u001b[0m train \u001b[38;5;241m=\u001b[39m h2o\u001b[38;5;241m.\u001b[39mimport_file(\u001b[38;5;124m'\u001b[39m\u001b[38;5;124mSBA_loans_train.csv\u001b[39m\u001b[38;5;124m'\u001b[39m)\n\u001b[1;32m      2\u001b[0m test \u001b[38;5;241m=\u001b[39m h2o\u001b[38;5;241m.\u001b[39mimport_file(\u001b[38;5;124m'\u001b[39m\u001b[38;5;124mSBA_loans_test.csv\u001b[39m\u001b[38;5;124m'\u001b[39m)\n",
      "\u001b[0;31mNameError\u001b[0m: name 'h2o' is not defined"
     ]
    }
   ],
   "source": [
    "train = h2o.import_file('SBA_loans_train.csv')\n",
    "test = h2o.import_file('SBA_loans_test.csv')"
   ]
  },
  {
   "cell_type": "code",
   "execution_count": 5,
   "metadata": {},
   "outputs": [],
   "source": [
    "# Choose which columns to encode\n",
    "cat_columns = [\"City\",\"State\",\"Bank\",\"BankState\", \"UrbanRural\", \"FranchiseCode\",\n",
    "               \"NewExist\", \"RevLineCr\",\"LowDoc\", \"Zip\"]\n",
    "response = \"Defaulted\"\n",
    "\n",
    "train[cat_columns+[response]] = train[cat_columns+[response]].asfactor()\n",
    "test[cat_columns+[response]] = test[cat_columns+[response]].asfactor()"
   ]
  },
  {
   "cell_type": "code",
   "execution_count": 6,
   "metadata": {},
   "outputs": [
    {
     "data": {
      "text/html": [
       "<table class='dataframe'>\n",
       "<thead>\n",
       "<tr><th>City         </th><th>State  </th><th style=\"text-align: right;\">  Zip</th><th>Bank                          </th><th>BankState  </th><th style=\"text-align: right;\">  NAICS</th><th style=\"text-align: right;\">  Term</th><th style=\"text-align: right;\">  NoEmp</th><th style=\"text-align: right;\">  NewExist</th><th style=\"text-align: right;\">  CreateJob</th><th style=\"text-align: right;\">  RetainedJob</th><th style=\"text-align: right;\">  FranchiseCode</th><th style=\"text-align: right;\">  UrbanRural</th><th>RevLineCr  </th><th>LowDoc  </th><th style=\"text-align: right;\">  DisbursementGross</th><th style=\"text-align: right;\">  BalanceGross</th><th style=\"text-align: right;\">  GrAppv</th><th style=\"text-align: right;\">  SBA_Appv</th><th style=\"text-align: right;\">  Defaulted</th></tr>\n",
       "</thead>\n",
       "<tbody>\n",
       "<tr><td>RANTOUL      </td><td>IL     </td><td style=\"text-align: right;\">61866</td><td>BUSEY BANK                    </td><td>IL         </td><td style=\"text-align: right;\">      0</td><td style=\"text-align: right;\">    84</td><td style=\"text-align: right;\">      1</td><td style=\"text-align: right;\">         2</td><td style=\"text-align: right;\">          0</td><td style=\"text-align: right;\">            0</td><td style=\"text-align: right;\">              1</td><td style=\"text-align: right;\">           0</td><td>N          </td><td>Y       </td><td style=\"text-align: right;\">              42000</td><td style=\"text-align: right;\">             0</td><td style=\"text-align: right;\">   42000</td><td style=\"text-align: right;\">     33600</td><td style=\"text-align: right;\">          0</td></tr>\n",
       "<tr><td>BOISE        </td><td>ID     </td><td style=\"text-align: right;\">83704</td><td>WELLS FARGO BANK NATL ASSOC   </td><td>SD         </td><td style=\"text-align: right;\">      0</td><td style=\"text-align: right;\">    84</td><td style=\"text-align: right;\">      7</td><td style=\"text-align: right;\">         1</td><td style=\"text-align: right;\">          0</td><td style=\"text-align: right;\">            0</td><td style=\"text-align: right;\">              1</td><td style=\"text-align: right;\">           0</td><td>N          </td><td>N       </td><td style=\"text-align: right;\">              15000</td><td style=\"text-align: right;\">             0</td><td style=\"text-align: right;\">   15000</td><td style=\"text-align: right;\">     13500</td><td style=\"text-align: right;\">          0</td></tr>\n",
       "<tr><td>CAROL STREAM </td><td>IL     </td><td style=\"text-align: right;\">60188</td><td>SOMERCOR 504, INC.            </td><td>IL         </td><td style=\"text-align: right;\">      0</td><td style=\"text-align: right;\">   240</td><td style=\"text-align: right;\">     19</td><td style=\"text-align: right;\">         1</td><td style=\"text-align: right;\">         15</td><td style=\"text-align: right;\">            0</td><td style=\"text-align: right;\">              1</td><td style=\"text-align: right;\">           0</td><td>N          </td><td>N       </td><td style=\"text-align: right;\">             497000</td><td style=\"text-align: right;\">             0</td><td style=\"text-align: right;\">  497000</td><td style=\"text-align: right;\">    497000</td><td style=\"text-align: right;\">          0</td></tr>\n",
       "<tr><td>SOMERSWORTH  </td><td>NH     </td><td style=\"text-align: right;\"> 3878</td><td>CITIZENS BANK NATL ASSOC      </td><td>NH         </td><td style=\"text-align: right;\"> 235610</td><td style=\"text-align: right;\">    84</td><td style=\"text-align: right;\">     21</td><td style=\"text-align: right;\">         1</td><td style=\"text-align: right;\">          0</td><td style=\"text-align: right;\">           21</td><td style=\"text-align: right;\">              1</td><td style=\"text-align: right;\">           1</td><td>Y          </td><td>N       </td><td style=\"text-align: right;\">              20000</td><td style=\"text-align: right;\">             0</td><td style=\"text-align: right;\">   20000</td><td style=\"text-align: right;\">     10000</td><td style=\"text-align: right;\">          0</td></tr>\n",
       "<tr><td>CHERRY HILL  </td><td>NJ     </td><td style=\"text-align: right;\"> 8002</td><td>CITIZENS BANK NATL ASSOC      </td><td>RI         </td><td style=\"text-align: right;\"> 541511</td><td style=\"text-align: right;\">    84</td><td style=\"text-align: right;\">      2</td><td style=\"text-align: right;\">         2</td><td style=\"text-align: right;\">          1</td><td style=\"text-align: right;\">            3</td><td style=\"text-align: right;\">              1</td><td style=\"text-align: right;\">           1</td><td>N          </td><td>N       </td><td style=\"text-align: right;\">             100000</td><td style=\"text-align: right;\">             0</td><td style=\"text-align: right;\">  100000</td><td style=\"text-align: right;\">     50000</td><td style=\"text-align: right;\">          0</td></tr>\n",
       "<tr><td>SALIDA       </td><td>CO     </td><td style=\"text-align: right;\">81201</td><td>FIRST SOUTHWEST BANK          </td><td>CO         </td><td style=\"text-align: right;\">      0</td><td style=\"text-align: right;\">   180</td><td style=\"text-align: right;\">      3</td><td style=\"text-align: right;\">         1</td><td style=\"text-align: right;\">          0</td><td style=\"text-align: right;\">            0</td><td style=\"text-align: right;\">              1</td><td style=\"text-align: right;\">           0</td><td>N          </td><td>N       </td><td style=\"text-align: right;\">             273000</td><td style=\"text-align: right;\">             0</td><td style=\"text-align: right;\">  273000</td><td style=\"text-align: right;\">    221130</td><td style=\"text-align: right;\">          0</td></tr>\n",
       "<tr><td>VALLEY STREAM</td><td>NY     </td><td style=\"text-align: right;\">11580</td><td>JPMORGAN CHASE BANK NATL ASSOC</td><td>IL         </td><td style=\"text-align: right;\"> 561990</td><td style=\"text-align: right;\">    62</td><td style=\"text-align: right;\">      6</td><td style=\"text-align: right;\">         1</td><td style=\"text-align: right;\">          1</td><td style=\"text-align: right;\">            6</td><td style=\"text-align: right;\">              0</td><td style=\"text-align: right;\">           1</td><td>N          </td><td>N       </td><td style=\"text-align: right;\">              99250</td><td style=\"text-align: right;\">             0</td><td style=\"text-align: right;\">  100000</td><td style=\"text-align: right;\">     50000</td><td style=\"text-align: right;\">          1</td></tr>\n",
       "<tr><td>UNION CITY   </td><td>NJ     </td><td style=\"text-align: right;\"> 7087</td><td>VALLEY NATIONAL BANK          </td><td>NJ         </td><td style=\"text-align: right;\"> 445299</td><td style=\"text-align: right;\">    84</td><td style=\"text-align: right;\">      7</td><td style=\"text-align: right;\">         1</td><td style=\"text-align: right;\">          8</td><td style=\"text-align: right;\">           15</td><td style=\"text-align: right;\">              1</td><td style=\"text-align: right;\">           1</td><td>Y          </td><td>N       </td><td style=\"text-align: right;\">             156215</td><td style=\"text-align: right;\">             0</td><td style=\"text-align: right;\">   25000</td><td style=\"text-align: right;\">     12500</td><td style=\"text-align: right;\">          0</td></tr>\n",
       "<tr><td>POCATELLO    </td><td>ID     </td><td style=\"text-align: right;\">83201</td><td>FIRST-CITIZENS BK &amp; TR CO     </td><td>CO         </td><td style=\"text-align: right;\"> 811192</td><td style=\"text-align: right;\">   216</td><td style=\"text-align: right;\">      4</td><td style=\"text-align: right;\">         1</td><td style=\"text-align: right;\">          0</td><td style=\"text-align: right;\">            0</td><td style=\"text-align: right;\">              1</td><td style=\"text-align: right;\">           2</td><td>N          </td><td>N       </td><td style=\"text-align: right;\">             314000</td><td style=\"text-align: right;\">             0</td><td style=\"text-align: right;\">  314000</td><td style=\"text-align: right;\">    235500</td><td style=\"text-align: right;\">          0</td></tr>\n",
       "<tr><td>ST. CLOUD    </td><td>MN     </td><td style=\"text-align: right;\">56301</td><td>WELLS FARGO BANK NATL ASSOC   </td><td>MN         </td><td style=\"text-align: right;\">      0</td><td style=\"text-align: right;\">    84</td><td style=\"text-align: right;\">     40</td><td style=\"text-align: right;\">         1</td><td style=\"text-align: right;\">          0</td><td style=\"text-align: right;\">            0</td><td style=\"text-align: right;\">              1</td><td style=\"text-align: right;\">           0</td><td>0          </td><td>N       </td><td style=\"text-align: right;\">             200000</td><td style=\"text-align: right;\">             0</td><td style=\"text-align: right;\">  200000</td><td style=\"text-align: right;\">    150000</td><td style=\"text-align: right;\">          0</td></tr>\n",
       "</tbody>\n",
       "</table><pre style='font-size: smaller; margin-bottom: 1em;'>[112396 rows x 20 columns]</pre>"
      ],
      "text/plain": [
       "City           State      Zip  Bank                            BankState      NAICS    Term    NoEmp    NewExist    CreateJob    RetainedJob    FranchiseCode    UrbanRural  RevLineCr    LowDoc      DisbursementGross    BalanceGross    GrAppv    SBA_Appv    Defaulted\n",
       "-------------  -------  -----  ------------------------------  -----------  -------  ------  -------  ----------  -----------  -------------  ---------------  ------------  -----------  --------  -------------------  --------------  --------  ----------  -----------\n",
       "RANTOUL        IL       61866  BUSEY BANK                      IL                 0      84        1           2            0              0                1             0  N            Y                       42000               0     42000       33600            0\n",
       "BOISE          ID       83704  WELLS FARGO BANK NATL ASSOC     SD                 0      84        7           1            0              0                1             0  N            N                       15000               0     15000       13500            0\n",
       "CAROL STREAM   IL       60188  SOMERCOR 504, INC.              IL                 0     240       19           1           15              0                1             0  N            N                      497000               0    497000      497000            0\n",
       "SOMERSWORTH    NH        3878  CITIZENS BANK NATL ASSOC        NH            235610      84       21           1            0             21                1             1  Y            N                       20000               0     20000       10000            0\n",
       "CHERRY HILL    NJ        8002  CITIZENS BANK NATL ASSOC        RI            541511      84        2           2            1              3                1             1  N            N                      100000               0    100000       50000            0\n",
       "SALIDA         CO       81201  FIRST SOUTHWEST BANK            CO                 0     180        3           1            0              0                1             0  N            N                      273000               0    273000      221130            0\n",
       "VALLEY STREAM  NY       11580  JPMORGAN CHASE BANK NATL ASSOC  IL            561990      62        6           1            1              6                0             1  N            N                       99250               0    100000       50000            1\n",
       "UNION CITY     NJ        7087  VALLEY NATIONAL BANK            NJ            445299      84        7           1            8             15                1             1  Y            N                      156215               0     25000       12500            0\n",
       "POCATELLO      ID       83201  FIRST-CITIZENS BK & TR CO       CO            811192     216        4           1            0              0                1             2  N            N                      314000               0    314000      235500            0\n",
       "ST. CLOUD      MN       56301  WELLS FARGO BANK NATL ASSOC     MN                 0      84       40           1            0              0                1             0  0            N                      200000               0    200000      150000            0\n",
       "[112396 rows x 20 columns]\n"
      ]
     },
     "execution_count": 6,
     "metadata": {},
     "output_type": "execute_result"
    }
   ],
   "source": [
    "test"
   ]
  },
  {
   "attachments": {},
   "cell_type": "markdown",
   "metadata": {},
   "source": [
    "## **H2O `H2OGradientBoostingEstimator` with parameters:**\n",
    "```\n",
    "nfolds=5,\n",
    "ntrees=500,\n",
    "stopping_rounds=5,\n",
    "stopping_metric='AUCPR',\n",
    "seed=1234,\n",
    "keep_cross_validation_predictions = False\n",
    "```\n",
    "Display model performance on `test` dataset using `model_performance` function."
   ]
  },
  {
   "cell_type": "code",
   "execution_count": 7,
   "metadata": {},
   "outputs": [
    {
     "name": "stdout",
     "output_type": "stream",
     "text": [
      "Predictor columns: ['City', 'State', 'Zip', 'Bank', 'BankState', 'NAICS', 'Term', 'NoEmp', 'NewExist', 'CreateJob', 'RetainedJob', 'FranchiseCode', 'UrbanRural', 'RevLineCr', 'LowDoc', 'DisbursementGross', 'BalanceGross', 'GrAppv', 'SBA_Appv']\n",
      "gbm Model Build progress: |██████████████████████████████████████████████████████| (done) 100%\n"
     ]
    }
   ],
   "source": [
    "from h2o.estimators import H2OGradientBoostingEstimator\n",
    "\n",
    "predictors = train.columns\n",
    "predictors.remove(\"Defaulted\")\n",
    "print(\"Predictor columns:\", predictors)    \n",
    "response_col = \"Defaulted\"\n",
    "gradientBoost = H2OGradientBoostingEstimator(nfolds=5, ntrees=500, stopping_rounds=5, stopping_metric='AUCPR', seed=1234, \n",
    "                                             keep_cross_validation_predictions = False)\n",
    "\n",
    "gradientBoost.train(cat_columns, response, training_frame= train)\n",
    "model_summary = gradientBoost.summary()"
   ]
  },
  {
   "cell_type": "code",
   "execution_count": 8,
   "metadata": {},
   "outputs": [
    {
     "data": {
      "text/html": [
       "\n",
       "<style>\n",
       "\n",
       "#h2o-table-2.h2o-container {\n",
       "  overflow-x: auto;\n",
       "}\n",
       "#h2o-table-2 .h2o-table {\n",
       "  /* width: 100%; */\n",
       "  margin-top: 1em;\n",
       "  margin-bottom: 1em;\n",
       "}\n",
       "#h2o-table-2 .h2o-table caption {\n",
       "  white-space: nowrap;\n",
       "  caption-side: top;\n",
       "  text-align: left;\n",
       "  /* margin-left: 1em; */\n",
       "  margin: 0;\n",
       "  font-size: larger;\n",
       "}\n",
       "#h2o-table-2 .h2o-table thead {\n",
       "  white-space: nowrap; \n",
       "  position: sticky;\n",
       "  top: 0;\n",
       "  box-shadow: 0 -1px inset;\n",
       "}\n",
       "#h2o-table-2 .h2o-table tbody {\n",
       "  overflow: auto;\n",
       "}\n",
       "#h2o-table-2 .h2o-table th,\n",
       "#h2o-table-2 .h2o-table td {\n",
       "  text-align: right;\n",
       "  /* border: 1px solid; */\n",
       "}\n",
       "#h2o-table-2 .h2o-table tr:nth-child(even) {\n",
       "  /* background: #F5F5F5 */\n",
       "}\n",
       "\n",
       "</style>      \n",
       "<div id=\"h2o-table-2\" class=\"h2o-container\">\n",
       "  <table class=\"h2o-table\">\n",
       "    <caption>Model Summary: </caption>\n",
       "    <thead><tr><th></th>\n",
       "<th>number_of_trees</th>\n",
       "<th>number_of_internal_trees</th>\n",
       "<th>model_size_in_bytes</th>\n",
       "<th>min_depth</th>\n",
       "<th>max_depth</th>\n",
       "<th>mean_depth</th>\n",
       "<th>min_leaves</th>\n",
       "<th>max_leaves</th>\n",
       "<th>mean_leaves</th></tr></thead>\n",
       "    <tbody><tr><td></td>\n",
       "<td>95.0</td>\n",
       "<td>95.0</td>\n",
       "<td>78557.0</td>\n",
       "<td>5.0</td>\n",
       "<td>5.0</td>\n",
       "<td>5.0</td>\n",
       "<td>24.0</td>\n",
       "<td>32.0</td>\n",
       "<td>30.515789</td></tr></tbody>\n",
       "  </table>\n",
       "</div>\n"
      ],
      "text/plain": [
       "Model Summary: \n",
       "    number_of_trees    number_of_internal_trees    model_size_in_bytes    min_depth    max_depth    mean_depth    min_leaves    max_leaves    mean_leaves\n",
       "--  -----------------  --------------------------  ---------------------  -----------  -----------  ------------  ------------  ------------  -------------\n",
       "    95                 95                          78557                  5            5            5             24            32            30.5158"
      ]
     },
     "execution_count": 8,
     "metadata": {},
     "output_type": "execute_result"
    }
   ],
   "source": [
    "model_summary"
   ]
  },
  {
   "cell_type": "code",
   "execution_count": 9,
   "metadata": {},
   "outputs": [
    {
     "name": "stdout",
     "output_type": "stream",
     "text": [
      "Model AUCPR: 0.4966089837071746\n"
     ]
    },
    {
     "data": {
      "text/html": [
       "\n",
       "<style>\n",
       "\n",
       "#h2o-table-3.h2o-container {\n",
       "  overflow-x: auto;\n",
       "}\n",
       "#h2o-table-3 .h2o-table {\n",
       "  /* width: 100%; */\n",
       "  margin-top: 1em;\n",
       "  margin-bottom: 1em;\n",
       "}\n",
       "#h2o-table-3 .h2o-table caption {\n",
       "  white-space: nowrap;\n",
       "  caption-side: top;\n",
       "  text-align: left;\n",
       "  /* margin-left: 1em; */\n",
       "  margin: 0;\n",
       "  font-size: larger;\n",
       "}\n",
       "#h2o-table-3 .h2o-table thead {\n",
       "  white-space: nowrap; \n",
       "  position: sticky;\n",
       "  top: 0;\n",
       "  box-shadow: 0 -1px inset;\n",
       "}\n",
       "#h2o-table-3 .h2o-table tbody {\n",
       "  overflow: auto;\n",
       "}\n",
       "#h2o-table-3 .h2o-table th,\n",
       "#h2o-table-3 .h2o-table td {\n",
       "  text-align: right;\n",
       "  /* border: 1px solid; */\n",
       "}\n",
       "#h2o-table-3 .h2o-table tr:nth-child(even) {\n",
       "  /* background: #F5F5F5 */\n",
       "}\n",
       "\n",
       "</style>      \n",
       "<div id=\"h2o-table-3\" class=\"h2o-container\">\n",
       "  <table class=\"h2o-table\">\n",
       "    <caption>Confusion Matrix (Act/Pred) for max f1 @ threshold = 0.24603351030391302</caption>\n",
       "    <thead><tr><th></th>\n",
       "<th>0</th>\n",
       "<th>1</th>\n",
       "<th>Error</th>\n",
       "<th>Rate</th></tr></thead>\n",
       "    <tbody><tr><td>0</td>\n",
       "<td>77634.0</td>\n",
       "<td>15055.0</td>\n",
       "<td>0.1624</td>\n",
       "<td> (15055.0/92689.0)</td></tr>\n",
       "<tr><td>1</td>\n",
       "<td>8254.0</td>\n",
       "<td>11453.0</td>\n",
       "<td>0.4188</td>\n",
       "<td> (8254.0/19707.0)</td></tr>\n",
       "<tr><td>Total</td>\n",
       "<td>85888.0</td>\n",
       "<td>26508.0</td>\n",
       "<td>0.2074</td>\n",
       "<td> (23309.0/112396.0)</td></tr></tbody>\n",
       "  </table>\n",
       "</div>\n"
      ],
      "text/plain": [
       "Confusion Matrix (Act/Pred) for max f1 @ threshold = 0.24603351030391302\n",
       "       0      1      Error    Rate\n",
       "-----  -----  -----  -------  ------------------\n",
       "0      77634  15055  0.1624   (15055.0/92689.0)\n",
       "1      8254   11453  0.4188   (8254.0/19707.0)\n",
       "Total  85888  26508  0.2074   (23309.0/112396.0)"
      ]
     },
     "execution_count": 9,
     "metadata": {},
     "output_type": "execute_result"
    }
   ],
   "source": [
    "print(\"Model AUCPR:\", gradientBoost.model_performance(test).aucpr())\n",
    "gradientBoost.model_performance(test).confusion_matrix()"
   ]
  },
  {
   "attachments": {},
   "cell_type": "markdown",
   "metadata": {},
   "source": [
    "## **Perumtation Importance:**"
   ]
  },
  {
   "cell_type": "code",
   "execution_count": 12,
   "metadata": {},
   "outputs": [
    {
     "data": {
      "image/png": "[encoded data removed]",
      "text/plain": [
       "<Figure size 1400x1000 with 1 Axes>"
      ]
     },
     "metadata": {},
     "output_type": "display_data"
    },
    {
     "data": {
      "text/html": [
       "\n",
       "<style>\n",
       "\n",
       "#h2o-table-6.h2o-container {\n",
       "  overflow-x: auto;\n",
       "}\n",
       "#h2o-table-6 .h2o-table {\n",
       "  /* width: 100%; */\n",
       "  margin-top: 1em;\n",
       "  margin-bottom: 1em;\n",
       "}\n",
       "#h2o-table-6 .h2o-table caption {\n",
       "  white-space: nowrap;\n",
       "  caption-side: top;\n",
       "  text-align: left;\n",
       "  /* margin-left: 1em; */\n",
       "  margin: 0;\n",
       "  font-size: larger;\n",
       "}\n",
       "#h2o-table-6 .h2o-table thead {\n",
       "  white-space: nowrap; \n",
       "  position: sticky;\n",
       "  top: 0;\n",
       "  box-shadow: 0 -1px inset;\n",
       "}\n",
       "#h2o-table-6 .h2o-table tbody {\n",
       "  overflow: auto;\n",
       "}\n",
       "#h2o-table-6 .h2o-table th,\n",
       "#h2o-table-6 .h2o-table td {\n",
       "  text-align: right;\n",
       "  /* border: 1px solid; */\n",
       "}\n",
       "#h2o-table-6 .h2o-table tr:nth-child(even) {\n",
       "  /* background: #F5F5F5 */\n",
       "}\n",
       "\n",
       "</style>      \n",
       "<div id=\"h2o-table-6\" class=\"h2o-container\">\n",
       "  <table class=\"h2o-table\">\n",
       "    <caption>Variable Importances</caption>\n",
       "    <thead><tr><th>Variable</th>\n",
       "<th>Relative Importance</th>\n",
       "<th>Scaled Importance</th>\n",
       "<th>Percentage</th></tr></thead>\n",
       "    <tbody><tr><td>BankState</td>\n",
       "<td>0.0914350</td>\n",
       "<td>1.0</td>\n",
       "<td>0.3184985</td></tr>\n",
       "<tr><td>UrbanRural</td>\n",
       "<td>0.0609018</td>\n",
       "<td>0.6660670</td>\n",
       "<td>0.2121413</td></tr>\n",
       "<tr><td>Bank</td>\n",
       "<td>0.0390529</td>\n",
       "<td>0.4271115</td>\n",
       "<td>0.1360344</td></tr>\n",
       "<tr><td>RevLineCr</td>\n",
       "<td>0.0320394</td>\n",
       "<td>0.3504068</td>\n",
       "<td>0.1116040</td></tr>\n",
       "<tr><td>State</td>\n",
       "<td>0.0300949</td>\n",
       "<td>0.3291404</td>\n",
       "<td>0.1048307</td></tr>\n",
       "<tr><td>FranchiseCode</td>\n",
       "<td>0.0251354</td>\n",
       "<td>0.2748993</td>\n",
       "<td>0.0875550</td></tr>\n",
       "<tr><td>NewExist</td>\n",
       "<td>0.0045962</td>\n",
       "<td>0.0502673</td>\n",
       "<td>0.0160101</td></tr>\n",
       "<tr><td>Zip</td>\n",
       "<td>0.0021905</td>\n",
       "<td>0.0239564</td>\n",
       "<td>0.0076301</td></tr>\n",
       "<tr><td>LowDoc</td>\n",
       "<td>0.0013358</td>\n",
       "<td>0.0146091</td>\n",
       "<td>0.0046530</td></tr>\n",
       "<tr><td>City</td>\n",
       "<td>0.0002994</td>\n",
       "<td>0.0032746</td>\n",
       "<td>0.0010430</td></tr></tbody>\n",
       "  </table>\n",
       "</div>\n"
      ],
      "text/plain": [
       "Variable Importances\n",
       "Variable       Relative Importance    Scaled Importance    Percentage\n",
       "-------------  ---------------------  -------------------  ------------\n",
       "BankState      0.091435               1                    0.318498\n",
       "UrbanRural     0.0609018              0.666067             0.212141\n",
       "Bank           0.0390529              0.427112             0.136034\n",
       "RevLineCr      0.0320394              0.350407             0.111604\n",
       "State          0.0300949              0.32914              0.104831\n",
       "FranchiseCode  0.0251354              0.274899             0.087555\n",
       "NewExist       0.00459619             0.0502673            0.0160101\n",
       "Zip            0.00219045             0.0239564            0.00763007\n",
       "LowDoc         0.00133578             0.0146091            0.00465298\n",
       "City           0.000299412            0.00327459           0.00104295"
      ]
     },
     "execution_count": 12,
     "metadata": {},
     "output_type": "execute_result"
    }
   ],
   "source": [
    "gradientBoost.permutation_importance_plot(test)"
   ]
  },
  {
   "attachments": {},
   "cell_type": "markdown",
   "metadata": {},
   "source": [
    "## **Analysis:**\n",
    "- **What is most important feature?**\n",
    "    The most important feature is BankState, with a Scaled Feature importance of 1(obviously because it is scaled) and feature percentage of 0.3185437\n",
    "  \n",
    "- **Can you tell how feature is impacting (direction) probability? If yes, specify the direction. If not, explain why not.**\n",
    "      Based on the information given, we can only tell how important a feature is. We cannot tell which direction the probablity of the feature would be."
   ]
  },
  {
   "attachments": {},
   "cell_type": "markdown",
   "metadata": {},
   "source": [
    "# **Partial Dependency Plots**\n",
    "\n",
    "- Calculated and plotted PDP plot for the following columns: `\"UrbanRural\",\"SBA_Appv\",\"DisbursementGross\"`\n",
    "- `nbins=52,figsize=(10, 10)` "
   ]
  },
  {
   "cell_type": "code",
   "execution_count": 13,
   "metadata": {},
   "outputs": [
    {
     "name": "stdout",
     "output_type": "stream",
     "text": [
      "PartialDependencePlot progress: |████████████████████████████████████████████████| (done) 100%\n"
     ]
    },
    {
     "data": {
      "image/png": "[encoded data removed]",
      "text/plain": [
       "<Figure size 1000x1000 with 3 Axes>"
      ]
     },
     "metadata": {},
     "output_type": "display_data"
    }
   ],
   "source": [
    "gradientBoost.partial_plot(test, cols=[\"UrbanRural\", \"SBA_Appv\", \"DisbursementGross\"], nbins=52,figsize=(10, 10));"
   ]
  },
  {
   "cell_type": "markdown",
   "metadata": {},
   "source": [
    "### **Analysis:**\n",
    "- An **UrbanRural** value of 1 indicates an urban neighborhood, and 2 indicates a rural neighborhood. Based on that, it seems like both urban and rural small business are equally as likely to default on their loan.\n",
    "- Features **SBA_Appv** and **DisbursementGross** have no real effect on whether or not the small business would default on their loan payments. "
   ]
  },
  {
   "attachments": {},
   "cell_type": "markdown",
   "metadata": {},
   "source": [
    "# **SHAPLEY PLOTS:**\n",
    "\n",
    "Calculated and display summary plot of Shapley values. Used`test` dataset to calculate Shapley values."
   ]
  },
  {
   "cell_type": "code",
   "execution_count": 13,
   "metadata": {},
   "outputs": [],
   "source": [
    "class H2OProbWrapper:\n",
    "    def __init__(self, h2o_model, feature_names):\n",
    "        self.h2o_model = h2o_model\n",
    "        self.feature_names = feature_names\n",
    "\n",
    "    def predict_binary_prob(self, X):\n",
    "        if isinstance(X, pd.Series):\n",
    "            X = X.values.reshape(1,-1)\n",
    "        self.dataframe= pd.DataFrame(X, columns=self.feature_names)\n",
    "        self.predictions = self.h2o_model.predict(h2o.H2OFrame(self.dataframe)).as_data_frame().values\n",
    "        return self.predictions.astype('float64')[:,-1] #probability of True class"
   ]
  },
  {
   "cell_type": "code",
   "execution_count": 14,
   "metadata": {},
   "outputs": [],
   "source": [
    "feature_names = list(train.columns)\n",
    "h2o_wrapper = H2OProbWrapper(gradientBoost,feature_names) "
   ]
  },
  {
   "cell_type": "code",
   "execution_count": 15,
   "metadata": {},
   "outputs": [
    {
     "name": "stderr",
     "output_type": "stream",
     "text": [
      "/opt/anaconda3/lib/python3.11/site-packages/h2o/frame.py:1983: H2ODependencyWarning: Converting H2O frame to pandas dataframe using single-thread.  For faster conversion using multi-thread, install datatable (for Python 3.9 or lower), or polars and pyarrow (for Python 3.10 or above) and activate it using:\n",
      "\n",
      "with h2o.utils.threading.local_context(polars_enabled=True, datatable_enabled=True):\n",
      "    pandas_df = h2o_df.as_data_frame()\n",
      "\n",
      "  warnings.warn(\"Converting H2O frame to pandas dataframe using single-thread.  For faster conversion using\"\n"
     ]
    },
    {
     "data": {
      "text/html": [
       "<div>\n",
       "<style scoped>\n",
       "    .dataframe tbody tr th:only-of-type {\n",
       "        vertical-align: middle;\n",
       "    }\n",
       "\n",
       "    .dataframe tbody tr th {\n",
       "        vertical-align: top;\n",
       "    }\n",
       "\n",
       "    .dataframe thead th {\n",
       "        text-align: right;\n",
       "    }\n",
       "</style>\n",
       "<table border=\"1\" class=\"dataframe\">\n",
       "  <thead>\n",
       "    <tr style=\"text-align: right;\">\n",
       "      <th></th>\n",
       "      <th>City</th>\n",
       "      <th>State</th>\n",
       "      <th>Zip</th>\n",
       "      <th>Bank</th>\n",
       "      <th>BankState</th>\n",
       "      <th>NAICS</th>\n",
       "      <th>Term</th>\n",
       "      <th>NoEmp</th>\n",
       "      <th>NewExist</th>\n",
       "      <th>CreateJob</th>\n",
       "      <th>RetainedJob</th>\n",
       "      <th>FranchiseCode</th>\n",
       "      <th>UrbanRural</th>\n",
       "      <th>RevLineCr</th>\n",
       "      <th>LowDoc</th>\n",
       "      <th>DisbursementGross</th>\n",
       "      <th>BalanceGross</th>\n",
       "      <th>GrAppv</th>\n",
       "      <th>SBA_Appv</th>\n",
       "      <th>Defaulted</th>\n",
       "    </tr>\n",
       "  </thead>\n",
       "  <tbody>\n",
       "    <tr>\n",
       "      <th>0</th>\n",
       "      <td>RANTOUL</td>\n",
       "      <td>IL</td>\n",
       "      <td>61866</td>\n",
       "      <td>BUSEY BANK</td>\n",
       "      <td>IL</td>\n",
       "      <td>0</td>\n",
       "      <td>84</td>\n",
       "      <td>1</td>\n",
       "      <td>2.0</td>\n",
       "      <td>0</td>\n",
       "      <td>0</td>\n",
       "      <td>1</td>\n",
       "      <td>0</td>\n",
       "      <td>N</td>\n",
       "      <td>Y</td>\n",
       "      <td>42000</td>\n",
       "      <td>0</td>\n",
       "      <td>42000</td>\n",
       "      <td>33600</td>\n",
       "      <td>0</td>\n",
       "    </tr>\n",
       "    <tr>\n",
       "      <th>1</th>\n",
       "      <td>BOISE</td>\n",
       "      <td>ID</td>\n",
       "      <td>83704</td>\n",
       "      <td>WELLS FARGO BANK NATL ASSOC</td>\n",
       "      <td>SD</td>\n",
       "      <td>0</td>\n",
       "      <td>84</td>\n",
       "      <td>7</td>\n",
       "      <td>1.0</td>\n",
       "      <td>0</td>\n",
       "      <td>0</td>\n",
       "      <td>1</td>\n",
       "      <td>0</td>\n",
       "      <td>N</td>\n",
       "      <td>N</td>\n",
       "      <td>15000</td>\n",
       "      <td>0</td>\n",
       "      <td>15000</td>\n",
       "      <td>13500</td>\n",
       "      <td>0</td>\n",
       "    </tr>\n",
       "    <tr>\n",
       "      <th>2</th>\n",
       "      <td>CAROL STREAM</td>\n",
       "      <td>IL</td>\n",
       "      <td>60188</td>\n",
       "      <td>SOMERCOR 504, INC.</td>\n",
       "      <td>IL</td>\n",
       "      <td>0</td>\n",
       "      <td>240</td>\n",
       "      <td>19</td>\n",
       "      <td>1.0</td>\n",
       "      <td>15</td>\n",
       "      <td>0</td>\n",
       "      <td>1</td>\n",
       "      <td>0</td>\n",
       "      <td>N</td>\n",
       "      <td>N</td>\n",
       "      <td>497000</td>\n",
       "      <td>0</td>\n",
       "      <td>497000</td>\n",
       "      <td>497000</td>\n",
       "      <td>0</td>\n",
       "    </tr>\n",
       "    <tr>\n",
       "      <th>3</th>\n",
       "      <td>SOMERSWORTH</td>\n",
       "      <td>NH</td>\n",
       "      <td>3878</td>\n",
       "      <td>CITIZENS BANK NATL ASSOC</td>\n",
       "      <td>NH</td>\n",
       "      <td>235610</td>\n",
       "      <td>84</td>\n",
       "      <td>21</td>\n",
       "      <td>1.0</td>\n",
       "      <td>0</td>\n",
       "      <td>21</td>\n",
       "      <td>1</td>\n",
       "      <td>1</td>\n",
       "      <td>Y</td>\n",
       "      <td>N</td>\n",
       "      <td>20000</td>\n",
       "      <td>0</td>\n",
       "      <td>20000</td>\n",
       "      <td>10000</td>\n",
       "      <td>0</td>\n",
       "    </tr>\n",
       "    <tr>\n",
       "      <th>4</th>\n",
       "      <td>CHERRY HILL</td>\n",
       "      <td>NJ</td>\n",
       "      <td>8002</td>\n",
       "      <td>CITIZENS BANK NATL ASSOC</td>\n",
       "      <td>RI</td>\n",
       "      <td>541511</td>\n",
       "      <td>84</td>\n",
       "      <td>2</td>\n",
       "      <td>2.0</td>\n",
       "      <td>1</td>\n",
       "      <td>3</td>\n",
       "      <td>1</td>\n",
       "      <td>1</td>\n",
       "      <td>N</td>\n",
       "      <td>N</td>\n",
       "      <td>100000</td>\n",
       "      <td>0</td>\n",
       "      <td>100000</td>\n",
       "      <td>50000</td>\n",
       "      <td>0</td>\n",
       "    </tr>\n",
       "    <tr>\n",
       "      <th>...</th>\n",
       "      <td>...</td>\n",
       "      <td>...</td>\n",
       "      <td>...</td>\n",
       "      <td>...</td>\n",
       "      <td>...</td>\n",
       "      <td>...</td>\n",
       "      <td>...</td>\n",
       "      <td>...</td>\n",
       "      <td>...</td>\n",
       "      <td>...</td>\n",
       "      <td>...</td>\n",
       "      <td>...</td>\n",
       "      <td>...</td>\n",
       "      <td>...</td>\n",
       "      <td>...</td>\n",
       "      <td>...</td>\n",
       "      <td>...</td>\n",
       "      <td>...</td>\n",
       "      <td>...</td>\n",
       "      <td>...</td>\n",
       "    </tr>\n",
       "    <tr>\n",
       "      <th>112391</th>\n",
       "      <td>HURRICANE</td>\n",
       "      <td>WV</td>\n",
       "      <td>25526</td>\n",
       "      <td>WESBANCO BANK, INC.</td>\n",
       "      <td>WV</td>\n",
       "      <td>0</td>\n",
       "      <td>60</td>\n",
       "      <td>6</td>\n",
       "      <td>1.0</td>\n",
       "      <td>0</td>\n",
       "      <td>0</td>\n",
       "      <td>1</td>\n",
       "      <td>0</td>\n",
       "      <td>N</td>\n",
       "      <td>Y</td>\n",
       "      <td>23269</td>\n",
       "      <td>0</td>\n",
       "      <td>24700</td>\n",
       "      <td>19760</td>\n",
       "      <td>0</td>\n",
       "    </tr>\n",
       "    <tr>\n",
       "      <th>112392</th>\n",
       "      <td>ADA</td>\n",
       "      <td>OK</td>\n",
       "      <td>74820</td>\n",
       "      <td>VISION BANK NATL ASSOC</td>\n",
       "      <td>OK</td>\n",
       "      <td>722211</td>\n",
       "      <td>78</td>\n",
       "      <td>2</td>\n",
       "      <td>1.0</td>\n",
       "      <td>10</td>\n",
       "      <td>0</td>\n",
       "      <td>1</td>\n",
       "      <td>2</td>\n",
       "      <td>0</td>\n",
       "      <td>N</td>\n",
       "      <td>120000</td>\n",
       "      <td>0</td>\n",
       "      <td>120000</td>\n",
       "      <td>60000</td>\n",
       "      <td>1</td>\n",
       "    </tr>\n",
       "    <tr>\n",
       "      <th>112393</th>\n",
       "      <td>LA MIRADA</td>\n",
       "      <td>CA</td>\n",
       "      <td>90638</td>\n",
       "      <td>BBCN BANK</td>\n",
       "      <td>CA</td>\n",
       "      <td>621999</td>\n",
       "      <td>78</td>\n",
       "      <td>1</td>\n",
       "      <td>2.0</td>\n",
       "      <td>0</td>\n",
       "      <td>0</td>\n",
       "      <td>0</td>\n",
       "      <td>1</td>\n",
       "      <td>N</td>\n",
       "      <td>N</td>\n",
       "      <td>20000</td>\n",
       "      <td>0</td>\n",
       "      <td>20000</td>\n",
       "      <td>17000</td>\n",
       "      <td>1</td>\n",
       "    </tr>\n",
       "    <tr>\n",
       "      <th>112394</th>\n",
       "      <td>LOS ANGELES</td>\n",
       "      <td>CA</td>\n",
       "      <td>90021</td>\n",
       "      <td>CAPITAL ONE NATL ASSOC</td>\n",
       "      <td>VA</td>\n",
       "      <td>315212</td>\n",
       "      <td>84</td>\n",
       "      <td>3</td>\n",
       "      <td>1.0</td>\n",
       "      <td>4</td>\n",
       "      <td>3</td>\n",
       "      <td>0</td>\n",
       "      <td>1</td>\n",
       "      <td>N</td>\n",
       "      <td>N</td>\n",
       "      <td>25000</td>\n",
       "      <td>0</td>\n",
       "      <td>25000</td>\n",
       "      <td>12500</td>\n",
       "      <td>0</td>\n",
       "    </tr>\n",
       "    <tr>\n",
       "      <th>112395</th>\n",
       "      <td>GREEN BAY</td>\n",
       "      <td>WI</td>\n",
       "      <td>54304</td>\n",
       "      <td>PREMIER COMMUNITY BANK</td>\n",
       "      <td>WI</td>\n",
       "      <td>0</td>\n",
       "      <td>120</td>\n",
       "      <td>14</td>\n",
       "      <td>1.0</td>\n",
       "      <td>0</td>\n",
       "      <td>0</td>\n",
       "      <td>0</td>\n",
       "      <td>0</td>\n",
       "      <td>N</td>\n",
       "      <td>N</td>\n",
       "      <td>250000</td>\n",
       "      <td>0</td>\n",
       "      <td>250000</td>\n",
       "      <td>212500</td>\n",
       "      <td>0</td>\n",
       "    </tr>\n",
       "  </tbody>\n",
       "</table>\n",
       "<p>112396 rows × 20 columns</p>\n",
       "</div>"
      ],
      "text/plain": [
       "                City State    Zip                         Bank BankState  \\\n",
       "0            RANTOUL    IL  61866                   BUSEY BANK        IL   \n",
       "1              BOISE    ID  83704  WELLS FARGO BANK NATL ASSOC        SD   \n",
       "2       CAROL STREAM    IL  60188           SOMERCOR 504, INC.        IL   \n",
       "3        SOMERSWORTH    NH   3878     CITIZENS BANK NATL ASSOC        NH   \n",
       "4        CHERRY HILL    NJ   8002     CITIZENS BANK NATL ASSOC        RI   \n",
       "...              ...   ...    ...                          ...       ...   \n",
       "112391     HURRICANE    WV  25526          WESBANCO BANK, INC.        WV   \n",
       "112392           ADA    OK  74820       VISION BANK NATL ASSOC        OK   \n",
       "112393     LA MIRADA    CA  90638                    BBCN BANK        CA   \n",
       "112394   LOS ANGELES    CA  90021       CAPITAL ONE NATL ASSOC        VA   \n",
       "112395     GREEN BAY    WI  54304       PREMIER COMMUNITY BANK        WI   \n",
       "\n",
       "         NAICS  Term  NoEmp  NewExist  CreateJob  RetainedJob  FranchiseCode  \\\n",
       "0            0    84      1       2.0          0            0              1   \n",
       "1            0    84      7       1.0          0            0              1   \n",
       "2            0   240     19       1.0         15            0              1   \n",
       "3       235610    84     21       1.0          0           21              1   \n",
       "4       541511    84      2       2.0          1            3              1   \n",
       "...        ...   ...    ...       ...        ...          ...            ...   \n",
       "112391       0    60      6       1.0          0            0              1   \n",
       "112392  722211    78      2       1.0         10            0              1   \n",
       "112393  621999    78      1       2.0          0            0              0   \n",
       "112394  315212    84      3       1.0          4            3              0   \n",
       "112395       0   120     14       1.0          0            0              0   \n",
       "\n",
       "        UrbanRural RevLineCr LowDoc  DisbursementGross  BalanceGross  GrAppv  \\\n",
       "0                0         N      Y              42000             0   42000   \n",
       "1                0         N      N              15000             0   15000   \n",
       "2                0         N      N             497000             0  497000   \n",
       "3                1         Y      N              20000             0   20000   \n",
       "4                1         N      N             100000             0  100000   \n",
       "...            ...       ...    ...                ...           ...     ...   \n",
       "112391           0         N      Y              23269             0   24700   \n",
       "112392           2         0      N             120000             0  120000   \n",
       "112393           1         N      N              20000             0   20000   \n",
       "112394           1         N      N              25000             0   25000   \n",
       "112395           0         N      N             250000             0  250000   \n",
       "\n",
       "        SBA_Appv  Defaulted  \n",
       "0          33600          0  \n",
       "1          13500          0  \n",
       "2         497000          0  \n",
       "3          10000          0  \n",
       "4          50000          0  \n",
       "...          ...        ...  \n",
       "112391     19760          0  \n",
       "112392     60000          1  \n",
       "112393     17000          1  \n",
       "112394     12500          0  \n",
       "112395    212500          0  \n",
       "\n",
       "[112396 rows x 20 columns]"
      ]
     },
     "execution_count": 15,
     "metadata": {},
     "output_type": "execute_result"
    }
   ],
   "source": [
    "test_df = h2o.as_list(test, use_pandas=True)\n",
    "test_df"
   ]
  },
  {
   "cell_type": "code",
   "execution_count": 16,
   "metadata": {},
   "outputs": [
    {
     "name": "stdout",
     "output_type": "stream",
     "text": [
      "Parse progress: |████████████████████████████████████████████████████████████████| (done) 100%\n",
      "gbm prediction progress: |"
     ]
    },
    {
     "name": "stderr",
     "output_type": "stream",
     "text": [
      "/opt/anaconda3/lib/python3.11/site-packages/h2o/frame.py:1983: H2ODependencyWarning: Converting H2O frame to pandas dataframe using single-thread.  For faster conversion using multi-thread, install datatable (for Python 3.9 or lower), or polars and pyarrow (for Python 3.10 or above) and activate it using:\n",
      "\n",
      "with h2o.utils.threading.local_context(polars_enabled=True, datatable_enabled=True):\n",
      "    pandas_df = h2o_df.as_data_frame()\n",
      "\n",
      "  warnings.warn(\"Converting H2O frame to pandas dataframe using single-thread.  For faster conversion using\"\n",
      "Using 112396 background data samples could cause slower run times. Consider using shap.sample(data, K) or shap.kmeans(data, K) to summarize the background as K samples.\n"
     ]
    },
    {
     "name": "stdout",
     "output_type": "stream",
     "text": [
      "███████████████████████████████████████████████████████| (done) 100%\n"
     ]
    }
   ],
   "source": [
    "explainer = shap.KernelExplainer(h2o_wrapper.predict_binary_prob, test_df)"
   ]
  },
  {
   "attachments": {},
   "cell_type": "markdown",
   "metadata": {},
   "source": [
    "### **Plotted individual Shapley values plots for records 0,1 and 4 in test dataset, for the total of 3 plots.**\n"
   ]
  },
  {
   "cell_type": "code",
   "execution_count": null,
   "metadata": {},
   "outputs": [],
   "source": [
    "shap.initjs()\n",
    "shap_values = explainer.shap_values(test_df.iloc[0], nsamples=50) # record 0"
   ]
  },
  {
   "cell_type": "code",
   "execution_count": 20,
   "metadata": {},
   "outputs": [
    {
     "data": {
      "text/html": [
       "\n",
       "<div id='iNB8LSIIHER1FCAAS6XP5'>\n",
       "<div style='color: #900; text-align: center;'>\n",
       "  <b>Visualization omitted, Javascript library not loaded!</b><br>\n",
       "  Have you run `initjs()` in this notebook? If this notebook was from another\n",
       "  user you must also trust this notebook (File -> Trust notebook). If you are viewing\n",
       "  this notebook on github the Javascript has been stripped for security. If you are using\n",
       "  JupyterLab this error is because a JupyterLab extension has not yet been written.\n",
       "</div></div>\n",
       " <script>\n",
       "   if (window.SHAP) SHAP.ReactDom.render(\n",
       "    SHAP.React.createElement(SHAP.AdditiveForceVisualizer, {\"outNames\": [\"f(x)\"], \"baseValue\": 0.18585587529339964, \"outValue\": 0.04182025719051902, \"link\": \"identity\", \"featureNames\": [\"City\", \"State\", \"Zip\", \"Bank\", \"BankState\", \"NAICS\", \"Term\", \"NoEmp\", \"NewExist\", \"CreateJob\", \"RetainedJob\", \"FranchiseCode\", \"UrbanRural\", \"RevLineCr\", \"LowDoc\", \"DisbursementGross\", \"BalanceGross\", \"GrAppv\", \"SBA_Appv\", \"Defaulted\"], \"features\": {\"0\": {\"effect\": -0.0023826200711965944, \"value\": \"RANTOUL\"}, \"1\": {\"effect\": 0.01507477074294482, \"value\": \"IL\"}, \"2\": {\"effect\": -0.015178454488208083, \"value\": 61866.0}, \"3\": {\"effect\": -0.03294250351991263, \"value\": \"BUSEY BANK\"}, \"4\": {\"effect\": -0.01809524726920089, \"value\": \"IL\"}, \"5\": {\"effect\": 0.010038744953013929, \"value\": 0.0}, \"7\": {\"effect\": -0.007434452644163791, \"value\": 1.0}, \"8\": {\"effect\": 0.013898910216480851, \"value\": 2.0}, \"11\": {\"effect\": -0.014203532399617661, \"value\": 1.0}, \"12\": {\"effect\": -0.0666271879232567, \"value\": 0.0}, \"13\": {\"effect\": -0.0034113628436910994, \"value\": \"N\"}, \"17\": {\"effect\": -0.015244758367689328, \"value\": 42000.0}, \"18\": {\"effect\": -0.007527924488383436, \"value\": 33600.0}}, \"plot_cmap\": \"RdBu\", \"labelMargin\": 20}),\n",
       "    document.getElementById('iNB8LSIIHER1FCAAS6XP5')\n",
       "  );\n",
       "</script>"
      ],
      "text/plain": [
       "<shap.plots._force.AdditiveForceVisualizer at 0x296964c10>"
      ]
     },
     "execution_count": 20,
     "metadata": {},
     "output_type": "execute_result"
    }
   ],
   "source": [
    "shap.force_plot(explainer.expected_value, shap_values, test_df.iloc[0])"
   ]
  },
  {
   "cell_type": "markdown",
   "metadata": {},
   "source": [
    "### Explanation for Record 0\n",
    "It seems that State is an important feature for record 0, but since we don't know if it's urban or rural, and also because the BANK is important too, the PREDICTION (probability that record 0 small business defaulted on the loan) = 0.041820257190519"
   ]
  },
  {
   "cell_type": "code",
   "execution_count": 21,
   "metadata": {},
   "outputs": [
    {
     "name": "stdout",
     "output_type": "stream",
     "text": [
      "Parse progress: |████████████████████████████████████████████████████████████████| (done) 100%\n",
      "gbm prediction progress: |███████████████████████████████████████████████████████| (done) 100%\n"
     ]
    },
    {
     "name": "stderr",
     "output_type": "stream",
     "text": [
      "/opt/anaconda3/lib/python3.11/site-packages/h2o/frame.py:1983: H2ODependencyWarning: Converting H2O frame to pandas dataframe using single-thread.  For faster conversion using multi-thread, install datatable (for Python 3.9 or lower), or polars and pyarrow (for Python 3.10 or above) and activate it using:\n",
      "\n",
      "with h2o.utils.threading.local_context(polars_enabled=True, datatable_enabled=True):\n",
      "    pandas_df = h2o_df.as_data_frame()\n",
      "\n",
      "  warnings.warn(\"Converting H2O frame to pandas dataframe using single-thread.  For faster conversion using\"\n"
     ]
    },
    {
     "name": "stdout",
     "output_type": "stream",
     "text": [
      "Parse progress: |████████████████████████████████████████████████████████████████| (done) 100%\n",
      "gbm prediction progress: |███████████████████████████████████████████████████████| (done) 100%\n"
     ]
    },
    {
     "name": "stderr",
     "output_type": "stream",
     "text": [
      "/opt/anaconda3/lib/python3.11/site-packages/h2o/frame.py:1983: H2ODependencyWarning: Converting H2O frame to pandas dataframe using single-thread.  For faster conversion using multi-thread, install datatable (for Python 3.9 or lower), or polars and pyarrow (for Python 3.10 or above) and activate it using:\n",
      "\n",
      "with h2o.utils.threading.local_context(polars_enabled=True, datatable_enabled=True):\n",
      "    pandas_df = h2o_df.as_data_frame()\n",
      "\n",
      "  warnings.warn(\"Converting H2O frame to pandas dataframe using single-thread.  For faster conversion using\"\n"
     ]
    },
    {
     "data": {
      "text/html": [
       "\n",
       "<div id='iA8HW4WEN641TXKPS1UL3'>\n",
       "<div style='color: #900; text-align: center;'>\n",
       "  <b>Visualization omitted, Javascript library not loaded!</b><br>\n",
       "  Have you run `initjs()` in this notebook? If this notebook was from another\n",
       "  user you must also trust this notebook (File -> Trust notebook). If you are viewing\n",
       "  this notebook on github the Javascript has been stripped for security. If you are using\n",
       "  JupyterLab this error is because a JupyterLab extension has not yet been written.\n",
       "</div></div>\n",
       " <script>\n",
       "   if (window.SHAP) SHAP.ReactDom.render(\n",
       "    SHAP.React.createElement(SHAP.AdditiveForceVisualizer, {\"outNames\": [\"f(x)\"], \"baseValue\": 0.18585587529339964, \"outValue\": 0.05394918683800831, \"link\": \"identity\", \"featureNames\": [\"City\", \"State\", \"Zip\", \"Bank\", \"BankState\", \"NAICS\", \"Term\", \"NoEmp\", \"NewExist\", \"CreateJob\", \"RetainedJob\", \"FranchiseCode\", \"UrbanRural\", \"RevLineCr\", \"LowDoc\", \"DisbursementGross\", \"BalanceGross\", \"GrAppv\", \"SBA_Appv\", \"Defaulted\"], \"features\": {\"1\": {\"effect\": 0.02341844835609427, \"value\": \"ID\"}, \"2\": {\"effect\": -0.012672550872676217, \"value\": 83704.0}, \"3\": {\"effect\": -0.011480432709912787, \"value\": \"WELLS FARGO BANK NATL ASSOC\"}, \"4\": {\"effect\": 0.004562798914321139, \"value\": \"SD\"}, \"8\": {\"effect\": -0.003307260111185363, \"value\": 1.0}, \"11\": {\"effect\": -0.0205627927296115, \"value\": 1.0}, \"12\": {\"effect\": -0.09534469093527301, \"value\": 0.0}, \"13\": {\"effect\": -0.014593673216193601, \"value\": \"N\"}, \"17\": {\"effect\": -0.001926535150954256, \"value\": 15000.0}}, \"plot_cmap\": \"RdBu\", \"labelMargin\": 20}),\n",
       "    document.getElementById('iA8HW4WEN641TXKPS1UL3')\n",
       "  );\n",
       "</script>"
      ],
      "text/plain": [
       "<shap.plots._force.AdditiveForceVisualizer at 0x3b42be590>"
      ]
     },
     "execution_count": 21,
     "metadata": {},
     "output_type": "execute_result"
    }
   ],
   "source": [
    "shap_values = explainer.shap_values(test_df.iloc[1], nsamples=50) # record 1\n",
    "shap.force_plot(explainer.expected_value, shap_values, test_df.iloc[1])"
   ]
  },
  {
   "cell_type": "markdown",
   "metadata": {},
   "source": [
    "### Explanation for Record 1\n",
    "It seems that State is an important feature for record 1, and once againt since we don't know if it's urban or rural, and also because the BANK is important too, the PREDICTION (probability that record 0 small business defaulted on the loan) = 0.05"
   ]
  },
  {
   "cell_type": "code",
   "execution_count": 22,
   "metadata": {},
   "outputs": [
    {
     "name": "stdout",
     "output_type": "stream",
     "text": [
      "Parse progress: |████████████████████████████████████████████████████████████████| (done) 100%\n",
      "gbm prediction progress: |███████████████████████████████████████████████████████| (done) 100%\n"
     ]
    },
    {
     "name": "stderr",
     "output_type": "stream",
     "text": [
      "/opt/anaconda3/lib/python3.11/site-packages/h2o/frame.py:1983: H2ODependencyWarning: Converting H2O frame to pandas dataframe using single-thread.  For faster conversion using multi-thread, install datatable (for Python 3.9 or lower), or polars and pyarrow (for Python 3.10 or above) and activate it using:\n",
      "\n",
      "with h2o.utils.threading.local_context(polars_enabled=True, datatable_enabled=True):\n",
      "    pandas_df = h2o_df.as_data_frame()\n",
      "\n",
      "  warnings.warn(\"Converting H2O frame to pandas dataframe using single-thread.  For faster conversion using\"\n"
     ]
    },
    {
     "name": "stdout",
     "output_type": "stream",
     "text": [
      "Parse progress: |████████████████████████████████████████████████████████████████| (done) 100%\n",
      "gbm prediction progress: |███████████████████████████████████████████████████████| (done) 100%\n"
     ]
    },
    {
     "name": "stderr",
     "output_type": "stream",
     "text": [
      "/opt/anaconda3/lib/python3.11/site-packages/h2o/frame.py:1983: H2ODependencyWarning: Converting H2O frame to pandas dataframe using single-thread.  For faster conversion using multi-thread, install datatable (for Python 3.9 or lower), or polars and pyarrow (for Python 3.10 or above) and activate it using:\n",
      "\n",
      "with h2o.utils.threading.local_context(polars_enabled=True, datatable_enabled=True):\n",
      "    pandas_df = h2o_df.as_data_frame()\n",
      "\n",
      "  warnings.warn(\"Converting H2O frame to pandas dataframe using single-thread.  For faster conversion using\"\n"
     ]
    },
    {
     "data": {
      "text/html": [
       "\n",
       "<div id='iTW7E4W2XPXKN1ZC7R1DI'>\n",
       "<div style='color: #900; text-align: center;'>\n",
       "  <b>Visualization omitted, Javascript library not loaded!</b><br>\n",
       "  Have you run `initjs()` in this notebook? If this notebook was from another\n",
       "  user you must also trust this notebook (File -> Trust notebook). If you are viewing\n",
       "  this notebook on github the Javascript has been stripped for security. If you are using\n",
       "  JupyterLab this error is because a JupyterLab extension has not yet been written.\n",
       "</div></div>\n",
       " <script>\n",
       "   if (window.SHAP) SHAP.ReactDom.render(\n",
       "    SHAP.React.createElement(SHAP.AdditiveForceVisualizer, {\"outNames\": [\"f(x)\"], \"baseValue\": 0.18585587529339964, \"outValue\": 0.2839263241724882, \"link\": \"identity\", \"featureNames\": [\"City\", \"State\", \"Zip\", \"Bank\", \"BankState\", \"NAICS\", \"Term\", \"NoEmp\", \"NewExist\", \"CreateJob\", \"RetainedJob\", \"FranchiseCode\", \"UrbanRural\", \"RevLineCr\", \"LowDoc\", \"DisbursementGross\", \"BalanceGross\", \"GrAppv\", \"SBA_Appv\", \"Defaulted\"], \"features\": {\"1\": {\"effect\": 0.00797081800770899, \"value\": \"NJ\"}, \"2\": {\"effect\": -0.008060462821495511, \"value\": 8002.0}, \"3\": {\"effect\": -0.014909797842203655, \"value\": \"CITIZENS BANK NATL ASSOC\"}, \"4\": {\"effect\": 0.03822767718671006, \"value\": \"RI\"}, \"8\": {\"effect\": 0.008507990458957953, \"value\": 2.0}, \"11\": {\"effect\": -0.011625258136323667, \"value\": 1.0}, \"12\": {\"effect\": 0.041814972866928375, \"value\": 1.0}, \"13\": {\"effect\": 0.03614450915880601, \"value\": \"N\"}}, \"plot_cmap\": \"RdBu\", \"labelMargin\": 20}),\n",
       "    document.getElementById('iTW7E4W2XPXKN1ZC7R1DI')\n",
       "  );\n",
       "</script>"
      ],
      "text/plain": [
       "<shap.plots._force.AdditiveForceVisualizer at 0x17548cc10>"
      ]
     },
     "execution_count": 22,
     "metadata": {},
     "output_type": "execute_result"
    }
   ],
   "source": [
    "shap_values = explainer.shap_values(test_df.iloc[4], nsamples=50) # record 1\n",
    "shap.force_plot(explainer.expected_value, shap_values, test_df.iloc[4])"
   ]
  },
  {
   "cell_type": "markdown",
   "metadata": {},
   "source": [
    "### Explanation for Record 4\n",
    "It seems that UrbanRural is an important feature for record 4, and this time we know the small business is located in an urban area. However, it seems that the BankState is negatively effecting the prediction, the PREDICTION (probability that record 0 small business defaulted on the loan) = 0.28"
   ]
  },
  {
   "cell_type": "markdown",
   "metadata": {},
   "source": [
    "Out of records 0,1, and 4, small business 4 is most likely to default or have defaulted."
   ]
  },
  {
   "attachments": {},
   "cell_type": "markdown",
   "metadata": {},
   "source": [
    "## **Surrogate Model**\n",
    "\n",
    "Train single decision tree surrogate model with 4 levels (depth 4) and plot the result.\n",
    "\n",
    "If you run into problem with using Graphviz, you can generate the png file without it, look for below code in the documentation:\n",
    "```\n",
    "java -cp h2o-genmodel.jar hex.genmodel.tools.PrintMojo --tree 0 -i \"/path/to/model.zip\" -o tree.png --format png\n",
    "open tree.png\n",
    "```\n",
    "Documentation:\n",
    "\n",
    "https://docs.h2o.ai/h2o/latest-stable/h2o-docs/productionizing.html#viewing-a-mojo-model\n"
   ]
  },
  {
   "cell_type": "code",
   "execution_count": 41,
   "metadata": {},
   "outputs": [
    {
     "name": "stdout",
     "output_type": "stream",
     "text": [
      "drf Model Build progress: |██████████████████████████████████████████████████████| (done) 100%\n",
      "Generated MOJO path:\n",
      " /Users/aishwaryaadiki/Downloads/dt_surrogate_mojo.zip\n"
     ]
    }
   ],
   "source": [
    "from h2o.estimators.random_forest import H2ORandomForestEstimator # for single tree\n",
    "model_id = 'dt_surrogate_mojo' # gives MOJO artifact a recognizable name\n",
    "\n",
    "# initialize single tree surrogate model\n",
    "surrogate = H2ORandomForestEstimator(ntrees=1,          # use only one tree\n",
    "                                     sample_rate=1,     # use all rows in that tree\n",
    "                                     mtries=-2,         # use all columns in that tree\n",
    "                                     max_depth=4,       # shallow trees are easier to understand\n",
    "                                     seed=12345,        # random seed for reproducibility\n",
    "                                     model_id=model_id) # gives MOJO artifact a recognizable name\n",
    "\n",
    "# train single tree surrogate model\n",
    "surrogate.train(cat_columns, response, training_frame=train)\n",
    "\n",
    "# persist MOJO (compiled, representation of trained model)\n",
    "# from which to generate plot of surrogate\n",
    "mojo_path = surrogate.download_mojo(path='.')\n",
    "print('Generated MOJO path:\\n', mojo_path)"
   ]
  },
  {
   "cell_type": "code",
   "execution_count": 53,
   "metadata": {},
   "outputs": [
    {
     "name": "stdout",
     "output_type": "stream",
     "text": [
      "Discovered H2O jar path:\n",
      " /Users/aishwaryaadiki/Downloads/h2o-3.46.0.1/h2o.jar\n",
      "\n",
      "Calling external process ...\n",
      "java -cp /Users/aishwaryaadiki/Downloads/h2o-3.46.0.1/h2o.jar hex.genmodel.tools.PrintMojo --tree 0 -i /Users/aishwaryaadiki/Downloads/dt_surrogate_mojo.zip -o dt_surrogate_mojo.gv --title Credit Card Default Decision Tree Surrogate\n"
     ]
    }
   ],
   "source": [
    "from h2o.backend import H2OLocalServer                            # for plotting local tree in-notebook\n",
    "\n",
    "import numpy as np   # array, vector, matrix calculations\n",
    "\n",
    "# system packages for calling external graphviz processes\n",
    "import os\n",
    "import re\n",
    "import subprocess\n",
    "\n",
    "# in-notebook display\n",
    "from IPython.display import Image\n",
    "from IPython.display import display\n",
    "%matplotlib inline\n",
    "\n",
    "\n",
    "# title for plot\n",
    "title = 'Credit Card Default Decision Tree Surrogate'  \n",
    "\n",
    "# locate h2o jar\n",
    "hs = H2OLocalServer()\n",
    "h2o_jar_path = \"/Users/aishwaryaadiki/Downloads/h2o-3.46.0.1/h2o.jar\"\n",
    "print('Discovered H2O jar path:\\n', h2o_jar_path)\n",
    "\n",
    "# construct command line call to generate graphviz version of \n",
    "# surrogate tree see for more information: \n",
    "# http://docs.h2o.ai/h2o/latest-stable/h2o-genmodel/javadoc/index.html\n",
    "gv_file_name = model_id + '.gv'\n",
    "gv_args = str('-cp ' + h2o_jar_path +\n",
    "              ' hex.genmodel.tools.PrintMojo --tree 0 -i '\n",
    "              + mojo_path + ' -o').split()\n",
    "gv_args.insert(0, 'java')\n",
    "gv_args.append(gv_file_name)\n",
    "if title is not None:\n",
    "    gv_args = gv_args + ['--title', title]\n",
    "    \n",
    "# call \n",
    "print()\n",
    "print('Calling external process ...')\n",
    "print(' '.join(gv_args))\n",
    "# if the line below is failing for you, try instead:\n",
    "# _ = subprocess.call(gv_args, shell=True)  \n",
    "_ = subprocess.call(gv_args)"
   ]
  },
  {
   "cell_type": "code",
   "execution_count": null,
   "metadata": {},
   "outputs": [],
   "source": [
    "# construct call to generate PNG from \n",
    "# graphviz representation of the tree\n",
    "png_file_name = model_id + '.png'\n",
    "png_args = str('dot -Tpng ' + gv_file_name + ' -o ' + png_file_name)\n",
    "png_args = png_args.split()\n",
    "\n",
    "# call\n",
    "print('Calling external process ...')\n",
    "print(' '.join(png_args))\n",
    "# if the line below is failing for you, try instead:\n",
    "# _ = subprocess.call(png_args, shell=True)  \n",
    "_ = subprocess.call(png_args)\n",
    "\n",
    "# display in-notebook\n",
    "display(Image((png_file_name)))"
   ]
  },
  {
   "cell_type": "code",
   "execution_count": 25,
   "metadata": {},
   "outputs": [
    {
     "name": "stdout",
     "output_type": "stream",
     "text": [
      "Collecting graphviz\n",
      "  Downloading graphviz-0.20.3-py3-none-any.whl.metadata (12 kB)\n",
      "Downloading graphviz-0.20.3-py3-none-any.whl (47 kB)\n",
      "\u001b[2K   \u001b[90m━━━━━━━━━━━━━━━━━━━━━━━━━━━━━━━━━━━━━━━━\u001b[0m \u001b[32m47.1/47.1 kB\u001b[0m \u001b[31m2.6 MB/s\u001b[0m eta \u001b[36m0:00:00\u001b[0m\n",
      "\u001b[?25hInstalling collected packages: graphviz\n",
      "Successfully installed graphviz-0.20.3\n",
      "Note: you may need to restart the kernel to use updated packages.\n"
     ]
    }
   ],
   "source": [
    "pip install graphviz # example for Mac OsX if not already installed"
   ]
  },
  {
   "cell_type": "code",
   "execution_count": null,
   "metadata": {},
   "outputs": [],
   "source": [
    "java -cp h2o-genmodel.jar hex.genmodel.tools.PrintMojo --tree 0 -i \"/Users/aishwaryaadiki/Downloads/dt_surrogate_mojo.zip\" -o dt_surrogate_mojo.png --format png\n",
    "open dt_surrogate_mojo.png"
   ]
  }
 ],
 "metadata": {
  "kernelspec": {
   "display_name": "Python 3 (ipykernel)",
   "language": "python",
   "name": "python3"
  },
  "language_info": {
   "codemirror_mode": {
    "name": "ipython",
    "version": 3
   },
   "file_extension": ".py",
   "mimetype": "text/x-python",
   "name": "python",
   "nbconvert_exporter": "python",
   "pygments_lexer": "ipython3",
   "version": "3.11.7"
  }
 },
 "nbformat": 4,
 "nbformat_minor": 4
}
